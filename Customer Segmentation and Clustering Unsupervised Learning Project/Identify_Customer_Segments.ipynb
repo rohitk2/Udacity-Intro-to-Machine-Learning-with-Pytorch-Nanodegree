{
 "cells": [
  {
   "cell_type": "markdown",
   "metadata": {},
   "source": [
    "# Project: Identify Customer Segments\n",
    "\n",
    "In this project, you will apply unsupervised learning techniques to identify segments of the population that form the core customer base for a mail-order sales company in Germany. These segments can then be used to direct marketing campaigns towards audiences that will have the highest expected rate of returns. The data that you will use has been provided by our partners at Bertelsmann Arvato Analytics, and represents a real-life data science task.\n",
    "\n",
    "This notebook will help you complete this task by providing a framework within which you will perform your analysis steps. In each step of the project, you will see some text describing the subtask that you will perform, followed by one or more code cells for you to complete your work. **Feel free to add additional code and markdown cells as you go along so that you can explore everything in precise chunks.** The code cells provided in the base template will outline only the major tasks, and will usually not be enough to cover all of the minor tasks that comprise it.\n",
    "\n",
    "It should be noted that while there will be precise guidelines on how you should handle certain tasks in the project, there will also be places where an exact specification is not provided. **There will be times in the project where you will need to make and justify your own decisions on how to treat the data.** These are places where there may not be only one way to handle the data. In real-life tasks, there may be many valid ways to approach an analysis task. One of the most important things you can do is clearly document your approach so that other scientists can understand the decisions you've made.\n",
    "\n",
    "At the end of most sections, there will be a Markdown cell labeled **Discussion**. In these cells, you will report your findings for the completed section, as well as document the decisions that you made in your approach to each subtask. **Your project will be evaluated not just on the code used to complete the tasks outlined, but also your communication about your observations and conclusions at each stage.**"
   ]
  },
  {
   "cell_type": "code",
   "execution_count": 87,
   "metadata": {},
   "outputs": [],
   "source": [
    "# import libraries here; add more as necessary\n",
    "import numpy as np\n",
    "import pandas as pd\n",
    "import matplotlib.pyplot as plt\n",
    "import seaborn as sns\n",
    "\n",
    "# magic word for producing visualizations in notebook\n",
    "%matplotlib inline"
   ]
  },
  {
   "cell_type": "markdown",
   "metadata": {},
   "source": [
    "### Step 0: Load the Data\n",
    "\n",
    "There are four files associated with this project (not including this one):\n",
    "\n",
    "- `Udacity_AZDIAS_Subset.csv`: Demographics data for the general population of Germany; 891211 persons (rows) x 85 features (columns).\n",
    "- `Udacity_CUSTOMERS_Subset.csv`: Demographics data for customers of a mail-order company; 191652 persons (rows) x 85 features (columns).\n",
    "- `Data_Dictionary.md`: Detailed information file about the features in the provided datasets.\n",
    "- `AZDIAS_Feature_Summary.csv`: Summary of feature attributes for demographics data; 85 features (rows) x 4 columns\n",
    "\n",
    "Each row of the demographics files represents a single person, but also includes information outside of individuals, including information about their household, building, and neighborhood. You will use this information to cluster the general population into groups with similar demographic properties. Then, you will see how the people in the customers dataset fit into those created clusters. The hope here is that certain clusters are over-represented in the customers data, as compared to the general population; those over-represented clusters will be assumed to be part of the core userbase. This information can then be used for further applications, such as targeting for a marketing campaign.\n",
    "\n",
    "To start off with, load in the demographics data for the general population into a pandas DataFrame, and do the same for the feature attributes summary. Note for all of the `.csv` data files in this project: they're semicolon (`;`) delimited, so you'll need an additional argument in your [`read_csv()`](https://pandas.pydata.org/pandas-docs/stable/generated/pandas.read_csv.html) call to read in the data properly. Also, considering the size of the main dataset, it may take some time for it to load completely.\n",
    "\n",
    "Once the dataset is loaded, it's recommended that you take a little bit of time just browsing the general structure of the dataset and feature summary file. You'll be getting deep into the innards of the cleaning in the first major step of the project, so gaining some general familiarity can help you get your bearings."
   ]
  },
  {
   "cell_type": "code",
   "execution_count": 88,
   "metadata": {},
   "outputs": [],
   "source": [
    "# Load in the general demographics data.\n",
    "azdias = pd.read_csv('Udacity_AZDIAS_Subset.csv', sep=';')\n",
    "\n",
    "# Load in the feature summary file.\n",
    "feat_info = pd.read_csv('AZDIAS_Feature_Summary.csv', sep=';')"
   ]
  },
  {
   "cell_type": "code",
   "execution_count": 89,
   "metadata": {},
   "outputs": [
    {
     "data": {
      "text/plain": [
       "(891221, 85)"
      ]
     },
     "execution_count": 89,
     "metadata": {},
     "output_type": "execute_result"
    }
   ],
   "source": [
    "# Check the structure of the data after it's loaded \n",
    "azdias.shape"
   ]
  },
  {
   "cell_type": "code",
   "execution_count": 90,
   "metadata": {},
   "outputs": [
    {
     "data": {
      "text/plain": [
       "(85, 4)"
      ]
     },
     "execution_count": 90,
     "metadata": {},
     "output_type": "execute_result"
    }
   ],
   "source": [
    "feat_info.shape"
   ]
  },
  {
   "cell_type": "code",
   "execution_count": 91,
   "metadata": {},
   "outputs": [
    {
     "data": {
      "text/html": [
       "<div>\n",
       "<style scoped>\n",
       "    .dataframe tbody tr th:only-of-type {\n",
       "        vertical-align: middle;\n",
       "    }\n",
       "\n",
       "    .dataframe tbody tr th {\n",
       "        vertical-align: top;\n",
       "    }\n",
       "\n",
       "    .dataframe thead th {\n",
       "        text-align: right;\n",
       "    }\n",
       "</style>\n",
       "<table border=\"1\" class=\"dataframe\">\n",
       "  <thead>\n",
       "    <tr style=\"text-align: right;\">\n",
       "      <th></th>\n",
       "      <th>AGER_TYP</th>\n",
       "      <th>ALTERSKATEGORIE_GROB</th>\n",
       "      <th>ANREDE_KZ</th>\n",
       "      <th>CJT_GESAMTTYP</th>\n",
       "      <th>FINANZ_MINIMALIST</th>\n",
       "      <th>FINANZ_SPARER</th>\n",
       "      <th>FINANZ_VORSORGER</th>\n",
       "      <th>FINANZ_ANLEGER</th>\n",
       "      <th>FINANZ_UNAUFFAELLIGER</th>\n",
       "      <th>FINANZ_HAUSBAUER</th>\n",
       "      <th>...</th>\n",
       "      <th>PLZ8_ANTG1</th>\n",
       "      <th>PLZ8_ANTG2</th>\n",
       "      <th>PLZ8_ANTG3</th>\n",
       "      <th>PLZ8_ANTG4</th>\n",
       "      <th>PLZ8_BAUMAX</th>\n",
       "      <th>PLZ8_HHZ</th>\n",
       "      <th>PLZ8_GBZ</th>\n",
       "      <th>ARBEIT</th>\n",
       "      <th>ORTSGR_KLS9</th>\n",
       "      <th>RELAT_AB</th>\n",
       "    </tr>\n",
       "  </thead>\n",
       "  <tbody>\n",
       "    <tr>\n",
       "      <th>0</th>\n",
       "      <td>-1</td>\n",
       "      <td>2</td>\n",
       "      <td>1</td>\n",
       "      <td>2.0</td>\n",
       "      <td>3</td>\n",
       "      <td>4</td>\n",
       "      <td>3</td>\n",
       "      <td>5</td>\n",
       "      <td>5</td>\n",
       "      <td>3</td>\n",
       "      <td>...</td>\n",
       "      <td>NaN</td>\n",
       "      <td>NaN</td>\n",
       "      <td>NaN</td>\n",
       "      <td>NaN</td>\n",
       "      <td>NaN</td>\n",
       "      <td>NaN</td>\n",
       "      <td>NaN</td>\n",
       "      <td>NaN</td>\n",
       "      <td>NaN</td>\n",
       "      <td>NaN</td>\n",
       "    </tr>\n",
       "    <tr>\n",
       "      <th>1</th>\n",
       "      <td>-1</td>\n",
       "      <td>1</td>\n",
       "      <td>2</td>\n",
       "      <td>5.0</td>\n",
       "      <td>1</td>\n",
       "      <td>5</td>\n",
       "      <td>2</td>\n",
       "      <td>5</td>\n",
       "      <td>4</td>\n",
       "      <td>5</td>\n",
       "      <td>...</td>\n",
       "      <td>2.0</td>\n",
       "      <td>3.0</td>\n",
       "      <td>2.0</td>\n",
       "      <td>1.0</td>\n",
       "      <td>1.0</td>\n",
       "      <td>5.0</td>\n",
       "      <td>4.0</td>\n",
       "      <td>3.0</td>\n",
       "      <td>5.0</td>\n",
       "      <td>4.0</td>\n",
       "    </tr>\n",
       "    <tr>\n",
       "      <th>2</th>\n",
       "      <td>-1</td>\n",
       "      <td>3</td>\n",
       "      <td>2</td>\n",
       "      <td>3.0</td>\n",
       "      <td>1</td>\n",
       "      <td>4</td>\n",
       "      <td>1</td>\n",
       "      <td>2</td>\n",
       "      <td>3</td>\n",
       "      <td>5</td>\n",
       "      <td>...</td>\n",
       "      <td>3.0</td>\n",
       "      <td>3.0</td>\n",
       "      <td>1.0</td>\n",
       "      <td>0.0</td>\n",
       "      <td>1.0</td>\n",
       "      <td>4.0</td>\n",
       "      <td>4.0</td>\n",
       "      <td>3.0</td>\n",
       "      <td>5.0</td>\n",
       "      <td>2.0</td>\n",
       "    </tr>\n",
       "    <tr>\n",
       "      <th>3</th>\n",
       "      <td>2</td>\n",
       "      <td>4</td>\n",
       "      <td>2</td>\n",
       "      <td>2.0</td>\n",
       "      <td>4</td>\n",
       "      <td>2</td>\n",
       "      <td>5</td>\n",
       "      <td>2</td>\n",
       "      <td>1</td>\n",
       "      <td>2</td>\n",
       "      <td>...</td>\n",
       "      <td>2.0</td>\n",
       "      <td>2.0</td>\n",
       "      <td>2.0</td>\n",
       "      <td>0.0</td>\n",
       "      <td>1.0</td>\n",
       "      <td>3.0</td>\n",
       "      <td>4.0</td>\n",
       "      <td>2.0</td>\n",
       "      <td>3.0</td>\n",
       "      <td>3.0</td>\n",
       "    </tr>\n",
       "    <tr>\n",
       "      <th>4</th>\n",
       "      <td>-1</td>\n",
       "      <td>3</td>\n",
       "      <td>1</td>\n",
       "      <td>5.0</td>\n",
       "      <td>4</td>\n",
       "      <td>3</td>\n",
       "      <td>4</td>\n",
       "      <td>1</td>\n",
       "      <td>3</td>\n",
       "      <td>2</td>\n",
       "      <td>...</td>\n",
       "      <td>2.0</td>\n",
       "      <td>4.0</td>\n",
       "      <td>2.0</td>\n",
       "      <td>1.0</td>\n",
       "      <td>2.0</td>\n",
       "      <td>3.0</td>\n",
       "      <td>3.0</td>\n",
       "      <td>4.0</td>\n",
       "      <td>6.0</td>\n",
       "      <td>5.0</td>\n",
       "    </tr>\n",
       "  </tbody>\n",
       "</table>\n",
       "<p>5 rows × 85 columns</p>\n",
       "</div>"
      ],
      "text/plain": [
       "   AGER_TYP  ALTERSKATEGORIE_GROB  ANREDE_KZ  CJT_GESAMTTYP  \\\n",
       "0        -1                     2          1            2.0   \n",
       "1        -1                     1          2            5.0   \n",
       "2        -1                     3          2            3.0   \n",
       "3         2                     4          2            2.0   \n",
       "4        -1                     3          1            5.0   \n",
       "\n",
       "   FINANZ_MINIMALIST  FINANZ_SPARER  FINANZ_VORSORGER  FINANZ_ANLEGER  \\\n",
       "0                  3              4                 3               5   \n",
       "1                  1              5                 2               5   \n",
       "2                  1              4                 1               2   \n",
       "3                  4              2                 5               2   \n",
       "4                  4              3                 4               1   \n",
       "\n",
       "   FINANZ_UNAUFFAELLIGER  FINANZ_HAUSBAUER  ...  PLZ8_ANTG1  PLZ8_ANTG2  \\\n",
       "0                      5                 3  ...         NaN         NaN   \n",
       "1                      4                 5  ...         2.0         3.0   \n",
       "2                      3                 5  ...         3.0         3.0   \n",
       "3                      1                 2  ...         2.0         2.0   \n",
       "4                      3                 2  ...         2.0         4.0   \n",
       "\n",
       "   PLZ8_ANTG3  PLZ8_ANTG4  PLZ8_BAUMAX  PLZ8_HHZ  PLZ8_GBZ  ARBEIT  \\\n",
       "0         NaN         NaN          NaN       NaN       NaN     NaN   \n",
       "1         2.0         1.0          1.0       5.0       4.0     3.0   \n",
       "2         1.0         0.0          1.0       4.0       4.0     3.0   \n",
       "3         2.0         0.0          1.0       3.0       4.0     2.0   \n",
       "4         2.0         1.0          2.0       3.0       3.0     4.0   \n",
       "\n",
       "   ORTSGR_KLS9  RELAT_AB  \n",
       "0          NaN       NaN  \n",
       "1          5.0       4.0  \n",
       "2          5.0       2.0  \n",
       "3          3.0       3.0  \n",
       "4          6.0       5.0  \n",
       "\n",
       "[5 rows x 85 columns]"
      ]
     },
     "execution_count": 91,
     "metadata": {},
     "output_type": "execute_result"
    }
   ],
   "source": [
    "azdias.head()"
   ]
  },
  {
   "cell_type": "code",
   "execution_count": 92,
   "metadata": {
    "scrolled": true
   },
   "outputs": [
    {
     "data": {
      "text/html": [
       "<div>\n",
       "<style scoped>\n",
       "    .dataframe tbody tr th:only-of-type {\n",
       "        vertical-align: middle;\n",
       "    }\n",
       "\n",
       "    .dataframe tbody tr th {\n",
       "        vertical-align: top;\n",
       "    }\n",
       "\n",
       "    .dataframe thead th {\n",
       "        text-align: right;\n",
       "    }\n",
       "</style>\n",
       "<table border=\"1\" class=\"dataframe\">\n",
       "  <thead>\n",
       "    <tr style=\"text-align: right;\">\n",
       "      <th></th>\n",
       "      <th>attribute</th>\n",
       "      <th>information_level</th>\n",
       "      <th>type</th>\n",
       "      <th>missing_or_unknown</th>\n",
       "    </tr>\n",
       "  </thead>\n",
       "  <tbody>\n",
       "    <tr>\n",
       "      <th>0</th>\n",
       "      <td>AGER_TYP</td>\n",
       "      <td>person</td>\n",
       "      <td>categorical</td>\n",
       "      <td>[-1,0]</td>\n",
       "    </tr>\n",
       "    <tr>\n",
       "      <th>1</th>\n",
       "      <td>ALTERSKATEGORIE_GROB</td>\n",
       "      <td>person</td>\n",
       "      <td>ordinal</td>\n",
       "      <td>[-1,0,9]</td>\n",
       "    </tr>\n",
       "    <tr>\n",
       "      <th>2</th>\n",
       "      <td>ANREDE_KZ</td>\n",
       "      <td>person</td>\n",
       "      <td>categorical</td>\n",
       "      <td>[-1,0]</td>\n",
       "    </tr>\n",
       "    <tr>\n",
       "      <th>3</th>\n",
       "      <td>CJT_GESAMTTYP</td>\n",
       "      <td>person</td>\n",
       "      <td>categorical</td>\n",
       "      <td>[0]</td>\n",
       "    </tr>\n",
       "    <tr>\n",
       "      <th>4</th>\n",
       "      <td>FINANZ_MINIMALIST</td>\n",
       "      <td>person</td>\n",
       "      <td>ordinal</td>\n",
       "      <td>[-1]</td>\n",
       "    </tr>\n",
       "  </tbody>\n",
       "</table>\n",
       "</div>"
      ],
      "text/plain": [
       "              attribute information_level         type missing_or_unknown\n",
       "0              AGER_TYP            person  categorical             [-1,0]\n",
       "1  ALTERSKATEGORIE_GROB            person      ordinal           [-1,0,9]\n",
       "2             ANREDE_KZ            person  categorical             [-1,0]\n",
       "3         CJT_GESAMTTYP            person  categorical                [0]\n",
       "4     FINANZ_MINIMALIST            person      ordinal               [-1]"
      ]
     },
     "execution_count": 92,
     "metadata": {},
     "output_type": "execute_result"
    }
   ],
   "source": [
    "feat_info.head()"
   ]
  },
  {
   "cell_type": "markdown",
   "metadata": {},
   "source": [
    "## Step 1: Preprocessing"
   ]
  },
  {
   "cell_type": "markdown",
   "metadata": {},
   "source": [
    "### Assess Missing Data"
   ]
  },
  {
   "cell_type": "markdown",
   "metadata": {},
   "source": [
    "Which columns actually have missing values and how many of them are missing?"
   ]
  },
  {
   "cell_type": "code",
   "execution_count": 93,
   "metadata": {},
   "outputs": [
    {
     "data": {
      "text/plain": [
       "KK_KUNDENTYP           584612\n",
       "KBA05_ANTG3            133324\n",
       "KBA05_ANTG2            133324\n",
       "KBA05_ANTG4            133324\n",
       "KBA05_BAUMAX           133324\n",
       "KBA05_GBZ              133324\n",
       "KBA05_ANTG1            133324\n",
       "MOBI_REGIO             133324\n",
       "KKK                    121196\n",
       "REGIOTYP               121196\n",
       "PLZ8_ANTG1             116515\n",
       "PLZ8_ANTG2             116515\n",
       "PLZ8_ANTG3             116515\n",
       "PLZ8_ANTG4             116515\n",
       "PLZ8_BAUMAX            116515\n",
       "PLZ8_HHZ               116515\n",
       "PLZ8_GBZ               116515\n",
       "W_KEIT_KIND_HH         107602\n",
       "KBA13_ANZAHL_PKW       105800\n",
       "CAMEO_DEUG_2015         98979\n",
       "CAMEO_INTL_2015         98979\n",
       "CAMEO_DEU_2015          98979\n",
       "ORTSGR_KLS9             97216\n",
       "RELAT_AB                97216\n",
       "ARBEIT                  97216\n",
       "ANZ_HH_TITEL            97008\n",
       "EWDICHTE                93740\n",
       "BALLRAUM                93740\n",
       "INNENSTADT              93740\n",
       "GEBAEUDETYP_RASTER      93155\n",
       "WOHNLAGE                93148\n",
       "OST_WEST_KZ             93148\n",
       "MIN_GEBAEUDEJAHR        93148\n",
       "GEBAEUDETYP             93148\n",
       "ANZ_HAUSHALTE_AKTIV     93148\n",
       "KONSUMNAEHE             73969\n",
       "TITEL_KZ                73499\n",
       "WOHNDAUER_2008          73499\n",
       "SOHO_KZ                 73499\n",
       "ANZ_TITEL               73499\n",
       "ANZ_PERSONEN            73499\n",
       "ALTER_HH                73499\n",
       "HH_EINKOMMEN_SCORE      18348\n",
       "ONLINE_AFFINITAET        4854\n",
       "RETOURTYP_BK_S           4854\n",
       "LP_STATUS_GROB           4854\n",
       "LP_STATUS_FEIN           4854\n",
       "LP_FAMILIE_GROB          4854\n",
       "LP_FAMILIE_FEIN          4854\n",
       "LP_LEBENSPHASE_GROB      4854\n",
       "LP_LEBENSPHASE_FEIN      4854\n",
       "GFK_URLAUBERTYP          4854\n",
       "CJT_GESAMTTYP            4854\n",
       "dtype: int64"
      ]
     },
     "execution_count": 93,
     "metadata": {},
     "output_type": "execute_result"
    }
   ],
   "source": [
    "col_w_nan = azdias.isna().sum()\n",
    "col_w_nan = col_w_nan[col_w_nan != 0]\n",
    "col_w_nan.sort_values(ascending=False)"
   ]
  },
  {
   "cell_type": "code",
   "execution_count": 94,
   "metadata": {},
   "outputs": [
    {
     "name": "stdout",
     "output_type": "stream",
     "text": [
      "53 out of 85 colulumns in azdias have missing values\n"
     ]
    }
   ],
   "source": [
    "print(\"{} out of {} colulumns in azdias have missing values\".format(len(col_w_nan), azdias.shape[1]))"
   ]
  },
  {
   "cell_type": "markdown",
   "metadata": {},
   "source": [
    "### Converting Missing Value Codes to NaNs"
   ]
  },
  {
   "cell_type": "markdown",
   "metadata": {},
   "source": [
    "The fourth value of the feat_info dataframe has missing value codes. The codes indicate missing or unknown data."
   ]
  },
  {
   "cell_type": "code",
   "execution_count": 95,
   "metadata": {},
   "outputs": [
    {
     "data": {
      "text/plain": [
       "array(['[-1,0]', '[-1,0,9]', '[0]', '[-1]', '[]', '[-1,9]', '[-1,X]',\n",
       "       '[XX]', '[-1,XX]'], dtype=object)"
      ]
     },
     "execution_count": 95,
     "metadata": {},
     "output_type": "execute_result"
    }
   ],
   "source": [
    "feat_info.missing_or_unknown.unique()"
   ]
  },
  {
   "cell_type": "code",
   "execution_count": 96,
   "metadata": {},
   "outputs": [
    {
     "data": {
      "text/plain": [
       "0        [-1, 0]\n",
       "1     [-1, 0, 9]\n",
       "2        [-1, 0]\n",
       "3            [0]\n",
       "4           [-1]\n",
       "         ...    \n",
       "80          [-1]\n",
       "81          [-1]\n",
       "82       [-1, 9]\n",
       "83       [-1, 0]\n",
       "84       [-1, 9]\n",
       "Name: missing_or_unknown, Length: 85, dtype: object"
      ]
     },
     "execution_count": 96,
     "metadata": {},
     "output_type": "execute_result"
    }
   ],
   "source": [
    "#Convert these strings to list of int & string\n",
    "def convert(i) :\n",
    "    \"\"\"\n",
    "    inputs :\n",
    "    i - string\n",
    "    output :\n",
    "    either the integer version or i itself\n",
    "    -helper function\n",
    "    \"\"\"\n",
    "    if (i != 'X' and i != 'XX' and len(i) > 0) :\n",
    "        return int(i)\n",
    "    return i\n",
    "\n",
    "def create_list(s) :\n",
    "    \"\"\"\n",
    "    inputs :\n",
    "    s - string\n",
    "    output :\n",
    "    a list contatining either the integer components \n",
    "    or 'X' and 'XX' \n",
    "    \"\"\"\n",
    "    s = s[1:-1]\n",
    "    s = s.split(',')\n",
    "    return [convert(i) for i in s]\n",
    "\n",
    "feat_info.missing_or_unknown = feat_info.missing_or_unknown.apply(create_list)\n",
    "feat_info.missing_or_unknown"
   ]
  },
  {
   "cell_type": "code",
   "execution_count": 97,
   "metadata": {},
   "outputs": [],
   "source": [
    "#Map the column names to missing data encoding\n",
    "missing_data_dict = dict(zip(feat_info.attribute, feat_info.missing_or_unknown))"
   ]
  },
  {
   "cell_type": "code",
   "execution_count": 98,
   "metadata": {},
   "outputs": [
    {
     "data": {
      "text/plain": [
       "('ANREDE_KZ', [-1, 0])"
      ]
     },
     "execution_count": 98,
     "metadata": {},
     "output_type": "execute_result"
    }
   ],
   "source": [
    "#TEST IT\n",
    "feat_info.attribute[2], feat_info.missing_or_unknown[2]"
   ]
  },
  {
   "cell_type": "code",
   "execution_count": 99,
   "metadata": {},
   "outputs": [
    {
     "data": {
      "text/plain": [
       "[-1, 0]"
      ]
     },
     "execution_count": 99,
     "metadata": {},
     "output_type": "execute_result"
    }
   ],
   "source": [
    "missing_data_dict['ANREDE_KZ']"
   ]
  },
  {
   "cell_type": "code",
   "execution_count": 100,
   "metadata": {},
   "outputs": [
    {
     "name": "stdout",
     "output_type": "stream",
     "text": [
      "AGER_TYP gained 685843 more missing values \n",
      "\n",
      "ALTERSKATEGORIE_GROB gained 2881 more missing values \n",
      "\n",
      "ANREDE_KZ gained 0 more missing values \n",
      "\n",
      "CJT_GESAMTTYP gained 0 more missing values \n",
      "\n",
      "FINANZ_MINIMALIST gained 0 more missing values \n",
      "\n",
      "FINANZ_SPARER gained 0 more missing values \n",
      "\n",
      "FINANZ_VORSORGER gained 0 more missing values \n",
      "\n",
      "FINANZ_ANLEGER gained 0 more missing values \n",
      "\n",
      "FINANZ_UNAUFFAELLIGER gained 0 more missing values \n",
      "\n",
      "FINANZ_HAUSBAUER gained 0 more missing values \n",
      "\n",
      "FINANZTYP gained 0 more missing values \n",
      "\n",
      "GEBURTSJAHR gained 392318 more missing values \n",
      "\n",
      "GFK_URLAUBERTYP gained 0 more missing values \n",
      "\n",
      "GREEN_AVANTGARDE gained 0 more missing values \n",
      "\n",
      "HEALTH_TYP gained 111196 more missing values \n",
      "\n",
      "LP_LEBENSPHASE_FEIN gained 92778 more missing values \n",
      "\n",
      "LP_LEBENSPHASE_GROB gained 89718 more missing values \n",
      "\n",
      "LP_FAMILIE_FEIN gained 72938 more missing values \n",
      "\n",
      "LP_FAMILIE_GROB gained 72938 more missing values \n",
      "\n",
      "LP_STATUS_FEIN gained 0 more missing values \n",
      "\n",
      "LP_STATUS_GROB gained 0 more missing values \n",
      "\n",
      "NATIONALITAET_KZ gained 108315 more missing values \n",
      "\n",
      "PRAEGENDE_JUGENDJAHRE gained 108164 more missing values \n",
      "\n",
      "RETOURTYP_BK_S gained 0 more missing values \n",
      "\n",
      "SEMIO_SOZ gained 0 more missing values \n",
      "\n",
      "SEMIO_FAM gained 0 more missing values \n",
      "\n",
      "SEMIO_REL gained 0 more missing values \n",
      "\n",
      "SEMIO_MAT gained 0 more missing values \n",
      "\n",
      "SEMIO_VERT gained 0 more missing values \n",
      "\n",
      "SEMIO_LUST gained 0 more missing values \n",
      "\n",
      "SEMIO_ERL gained 0 more missing values \n",
      "\n",
      "SEMIO_KULT gained 0 more missing values \n",
      "\n",
      "SEMIO_RAT gained 0 more missing values \n",
      "\n",
      "SEMIO_KRIT gained 0 more missing values \n",
      "\n",
      "SEMIO_DOM gained 0 more missing values \n",
      "\n",
      "SEMIO_KAEM gained 0 more missing values \n",
      "\n",
      "SEMIO_PFLICHT gained 0 more missing values \n",
      "\n",
      "SEMIO_TRADV gained 0 more missing values \n",
      "\n",
      "SHOPPER_TYP gained 111196 more missing values \n",
      "\n",
      "SOHO_KZ gained 0 more missing values \n",
      "\n",
      "TITEL_KZ gained 815562 more missing values \n",
      "\n",
      "VERS_TYP gained 111196 more missing values \n",
      "\n",
      "ZABEOTYP gained 0 more missing values \n",
      "\n",
      "ALTER_HH gained 236768 more missing values \n",
      "\n",
      "ANZ_PERSONEN gained 0 more missing values \n",
      "\n",
      "ANZ_TITEL gained 0 more missing values \n",
      "\n",
      "HH_EINKOMMEN_SCORE gained 0 more missing values \n",
      "\n",
      "KK_KUNDENTYP gained 0 more missing values \n",
      "\n",
      "W_KEIT_KIND_HH gained 40386 more missing values \n",
      "\n",
      "WOHNDAUER_2008 gained 0 more missing values \n",
      "\n",
      "ANZ_HAUSHALTE_AKTIV gained 6463 more missing values \n",
      "\n",
      "ANZ_HH_TITEL gained 0 more missing values \n",
      "\n",
      "GEBAEUDETYP gained 0 more missing values \n",
      "\n",
      "KONSUMNAEHE gained 0 more missing values \n",
      "\n",
      "MIN_GEBAEUDEJAHR gained 0 more missing values \n",
      "\n",
      "OST_WEST_KZ gained 0 more missing values \n",
      "\n",
      "WOHNLAGE gained 0 more missing values \n",
      "\n",
      "CAMEO_DEUG_2015 gained 373 more missing values \n",
      "\n",
      "CAMEO_DEU_2015 gained 373 more missing values \n",
      "\n",
      "CAMEO_INTL_2015 gained 373 more missing values \n",
      "\n",
      "KBA05_ANTG1 gained 0 more missing values \n",
      "\n",
      "KBA05_ANTG2 gained 0 more missing values \n",
      "\n",
      "KBA05_ANTG3 gained 0 more missing values \n",
      "\n",
      "KBA05_ANTG4 gained 0 more missing values \n",
      "\n",
      "KBA05_BAUMAX gained 343200 more missing values \n",
      "\n",
      "KBA05_GBZ gained 0 more missing values \n",
      "\n",
      "BALLRAUM gained 0 more missing values \n",
      "\n",
      "EWDICHTE gained 0 more missing values \n",
      "\n",
      "INNENSTADT gained 0 more missing values \n",
      "\n",
      "GEBAEUDETYP_RASTER gained 0 more missing values \n",
      "\n",
      "KKK gained 36868 more missing values \n",
      "\n",
      "MOBI_REGIO gained 0 more missing values \n",
      "\n",
      "ONLINE_AFFINITAET gained 0 more missing values \n",
      "\n",
      "REGIOTYP gained 36868 more missing values \n",
      "\n",
      "KBA13_ANZAHL_PKW gained 0 more missing values \n",
      "\n",
      "PLZ8_ANTG1 gained 0 more missing values \n",
      "\n",
      "PLZ8_ANTG2 gained 0 more missing values \n",
      "\n",
      "PLZ8_ANTG3 gained 0 more missing values \n",
      "\n",
      "PLZ8_ANTG4 gained 0 more missing values \n",
      "\n",
      "PLZ8_BAUMAX gained 0 more missing values \n",
      "\n",
      "PLZ8_HHZ gained 0 more missing values \n",
      "\n",
      "PLZ8_GBZ gained 0 more missing values \n",
      "\n",
      "ARBEIT gained 159 more missing values \n",
      "\n",
      "ORTSGR_KLS9 gained 58 more missing values \n",
      "\n",
      "RELAT_AB gained 159 more missing values \n",
      "\n"
     ]
    }
   ],
   "source": [
    "# Identify missing or unknown data values and convert them to NaNs.\n",
    "df = azdias.copy()\n",
    "for col in missing_data_dict.keys(): \n",
    "    nan_before = df[col].isnull().sum()\n",
    "    df.loc[df[col].isin(missing_data_dict[col]), col] = np.nan\n",
    "    nan_after = df[col].isnull().sum()\n",
    "    diff = nan_after - nan_before\n",
    "    print('{} gained {} more missing values'.format(col, diff), '\\n')"
   ]
  },
  {
   "cell_type": "markdown",
   "metadata": {},
   "source": [
    "What is the distribution of missing values by columns?"
   ]
  },
  {
   "cell_type": "code",
   "execution_count": 101,
   "metadata": {},
   "outputs": [
    {
     "data": {
      "image/png": "[encoded data removed]",
      "text/plain": [
       "<Figure size 432x288 with 1 Axes>"
      ]
     },
     "metadata": {
      "needs_background": "light"
     },
     "output_type": "display_data"
    }
   ],
   "source": [
    "#As we can see most columns with missing values have 0.2 or less\n",
    "#added red line as the 0.2 threshold\n",
    "nmissing = df.isna().sum()/df.shape[0] \n",
    "nmissing = nmissing[nmissing > 0]\n",
    "\n",
    "plt.hist(nmissing,bins=50);\n",
    "plt.axvline(x=0.2, color='red');"
   ]
  },
  {
   "cell_type": "code",
   "execution_count": 102,
   "metadata": {},
   "outputs": [
    {
     "data": {
      "text/plain": [
       "TITEL_KZ        0.997576\n",
       "AGER_TYP        0.769554\n",
       "KK_KUNDENTYP    0.655967\n",
       "KBA05_BAUMAX    0.534687\n",
       "GEBURTSJAHR     0.440203\n",
       "ALTER_HH        0.348137\n",
       "dtype: float64"
      ]
     },
     "execution_count": 102,
     "metadata": {},
     "output_type": "execute_result"
    }
   ],
   "source": [
    "#Too many missing values (Outlier Columns)\n",
    "#Tbese are tbe columns over 20%\n",
    "columns_over20 = nmissing[nmissing > 0.2].sort_values(ascending = False)\n",
    "columns_over20"
   ]
  },
  {
   "cell_type": "code",
   "execution_count": 103,
   "metadata": {},
   "outputs": [
    {
     "data": {
      "text/plain": [
       "(891221, 85)"
      ]
     },
     "execution_count": 103,
     "metadata": {},
     "output_type": "execute_result"
    }
   ],
   "source": [
    "#before dropping the outlier columns\n",
    "df.shape"
   ]
  },
  {
   "cell_type": "code",
   "execution_count": 104,
   "metadata": {},
   "outputs": [
    {
     "data": {
      "text/plain": [
       "(891221, 79)"
      ]
     },
     "execution_count": 104,
     "metadata": {},
     "output_type": "execute_result"
    }
   ],
   "source": [
    "#Outliers dropped\n",
    "df.drop(columns=columns_over20.index, inplace=True)\n",
    "df.shape"
   ]
  },
  {
   "cell_type": "markdown",
   "metadata": {},
   "source": [
    "#### Discussion 1.1.2: Assess Missing Data in Each Column\n",
    "\n",
    "The majority of the columns that had missing values had below 20% missing values. I considered below 20% a reasonable amount. It is possible that if we did further analysis we could find columns that appeared to have more than others within that range. However, I focused on the 6 columns with over 20% missing values. We can see them as outliers or single points in that bar graph while the others are close to the majority. I focused on them and removed those columns."
   ]
  },
  {
   "cell_type": "markdown",
   "metadata": {},
   "source": [
    "#### Step 1.1.3: Assess Missing Data in Each Row"
   ]
  },
  {
   "cell_type": "markdown",
   "metadata": {},
   "source": [
    "Here is a histogram of missing values by rows."
   ]
  },
  {
   "cell_type": "code",
   "execution_count": 105,
   "metadata": {},
   "outputs": [
    {
     "data": {
      "text/plain": [
       "<matplotlib.lines.Line2D at 0x10bc00fd0>"
      ]
     },
     "execution_count": 105,
     "metadata": {},
     "output_type": "execute_result"
    },
    {
     "data": {
      "image/png": "[encoded data removed]",
      "text/plain": [
       "<Figure size 432x288 with 1 Axes>"
      ]
     },
     "metadata": {
      "needs_background": "light"
     },
     "output_type": "display_data"
    }
   ],
   "source": [
    "# after some experimentation I added a threshold line at 0.11\n",
    "nmissing_rows = df.isnull().mean(axis=1)\n",
    "plt.hist(nmissing_rows,bins=50);\n",
    "plt.axvline(x=0.11, color='red')"
   ]
  },
  {
   "cell_type": "code",
   "execution_count": 106,
   "metadata": {},
   "outputs": [
    {
     "name": "stdout",
     "output_type": "stream",
     "text": [
      "Percentage of rows with less missing values 0.8658918494963651.\n",
      "Percentage of rows with more missing values 0.1341081505036349.\n"
     ]
    }
   ],
   "source": [
    "#split rows by ones with too many missing vs less \n",
    "threshhold = 0.11\n",
    "\n",
    "df_lowna = df.loc[nmissing_rows < threshhold, :]\n",
    "df_highna = df.loc[nmissing_rows > threshhold, :]\n",
    "\n",
    "print(\"Percentage of rows with less missing values {}.\".format(df_lowna.shape[0]/df.shape[0]) )\n",
    "print(\"Percentage of rows with more missing values {}.\".format(df_highna.shape[0]/df.shape[0]) )"
   ]
  },
  {
   "cell_type": "code",
   "execution_count": 107,
   "metadata": {},
   "outputs": [
    {
     "data": {
      "text/plain": [
       "Index(['ANREDE_KZ', 'FINANZ_MINIMALIST', 'FINANZ_SPARER', 'FINANZ_VORSORGER',\n",
       "       'FINANZ_ANLEGER', 'FINANZ_UNAUFFAELLIGER', 'FINANZ_HAUSBAUER',\n",
       "       'FINANZTYP', 'GREEN_AVANTGARDE', 'SEMIO_SOZ', 'SEMIO_FAM', 'SEMIO_REL',\n",
       "       'SEMIO_MAT', 'SEMIO_VERT', 'SEMIO_LUST', 'SEMIO_ERL', 'SEMIO_KULT',\n",
       "       'SEMIO_RAT', 'SEMIO_KRIT', 'SEMIO_DOM', 'SEMIO_KAEM', 'SEMIO_PFLICHT',\n",
       "       'SEMIO_TRADV', 'ZABEOTYP'],\n",
       "      dtype='object')"
      ]
     },
     "execution_count": 107,
     "metadata": {},
     "output_type": "execute_result"
    }
   ],
   "source": [
    "# COlumns with no missing values\n",
    "col_no_missing = df.columns [ (df.isna().sum() == 0) ]\n",
    "col_no_missing"
   ]
  },
  {
   "cell_type": "markdown",
   "metadata": {},
   "source": [
    "Here is a series of bar graphs comparing the different distribution of values of the columns with no missing values"
   ]
  },
  {
   "cell_type": "code",
   "execution_count": 108,
   "metadata": {},
   "outputs": [
    {
     "data": {
      "image/png": "[encoded data removed]",
      "text/plain": [
       "<Figure size 1008x432 with 2 Axes>"
      ]
     },
     "metadata": {
      "needs_background": "light"
     },
     "output_type": "display_data"
    },
    {
     "data": {
      "image/png": "[encoded data removed]",
      "text/plain": [
       "<Figure size 1008x432 with 2 Axes>"
      ]
     },
     "metadata": {
      "needs_background": "light"
     },
     "output_type": "display_data"
    },
    {
     "data": {
      "image/png": "[encoded data removed]",
      "text/plain": [
       "<Figure size 1008x432 with 2 Axes>"
      ]
     },
     "metadata": {
      "needs_background": "light"
     },
     "output_type": "display_data"
    },
    {
     "data": {
      "image/png": "[encoded data removed]",
      "text/plain": [
       "<Figure size 1008x432 with 2 Axes>"
      ]
     },
     "metadata": {
      "needs_background": "light"
     },
     "output_type": "display_data"
    },
    {
     "data": {
      "image/png": "[encoded data removed]",
      "text/plain": [
       "<Figure size 1008x432 with 2 Axes>"
      ]
     },
     "metadata": {
      "needs_background": "light"
     },
     "output_type": "display_data"
    },
    {
     "data": {
      "image/png": "[encoded data removed]",
      "text/plain": [
       "<Figure size 1008x432 with 2 Axes>"
      ]
     },
     "metadata": {
      "needs_background": "light"
     },
     "output_type": "display_data"
    },
    {
     "data": {
      "image/png": "[encoded data removed]",
      "text/plain": [
       "<Figure size 1008x432 with 2 Axes>"
      ]
     },
     "metadata": {
      "needs_background": "light"
     },
     "output_type": "display_data"
    },
    {
     "data": {
      "image/png": "[encoded data removed]",
      "text/plain": [
       "<Figure size 1008x432 with 2 Axes>"
      ]
     },
     "metadata": {
      "needs_background": "light"
     },
     "output_type": "display_data"
    },
    {
     "data": {
      "image/png": "[encoded data removed]",
      "text/plain": [
       "<Figure size 1008x432 with 2 Axes>"
      ]
     },
     "metadata": {
      "needs_background": "light"
     },
     "output_type": "display_data"
    },
    {
     "data": {
      "image/png": "[encoded data removed]",
      "text/plain": [
       "<Figure size 1008x432 with 2 Axes>"
      ]
     },
     "metadata": {
      "needs_background": "light"
     },
     "output_type": "display_data"
    },
    {
     "data": {
      "image/png": "[encoded data removed]",
      "text/plain": [
       "<Figure size 1008x432 with 2 Axes>"
      ]
     },
     "metadata": {
      "needs_background": "light"
     },
     "output_type": "display_data"
    },
    {
     "data": {
      "image/png": "[encoded data removed]",
      "text/plain": [
       "<Figure size 1008x432 with 2 Axes>"
      ]
     },
     "metadata": {
      "needs_background": "light"
     },
     "output_type": "display_data"
    },
    {
     "data": {
      "image/png": "[encoded data removed]",
      "text/plain": [
       "<Figure size 1008x432 with 2 Axes>"
      ]
     },
     "metadata": {
      "needs_background": "light"
     },
     "output_type": "display_data"
    },
    {
     "data": {
      "image/png": "[encoded data removed]",
      "text/plain": [
       "<Figure size 1008x432 with 2 Axes>"
      ]
     },
     "metadata": {
      "needs_background": "light"
     },
     "output_type": "display_data"
    },
    {
     "data": {
      "image/png": "[encoded data removed]",
      "text/plain": [
       "<Figure size 1008x432 with 2 Axes>"
      ]
     },
     "metadata": {
      "needs_background": "light"
     },
     "output_type": "display_data"
    },
    {
     "data": {
      "image/png": "[encoded data removed]",
      "text/plain": [
       "<Figure size 1008x432 with 2 Axes>"
      ]
     },
     "metadata": {
      "needs_background": "light"
     },
     "output_type": "display_data"
    },
    {
     "data": {
      "image/png": "[encoded data removed]",
      "text/plain": [
       "<Figure size 1008x432 with 2 Axes>"
      ]
     },
     "metadata": {
      "needs_background": "light"
     },
     "output_type": "display_data"
    },
    {
     "data": {
      "image/png": "[encoded data removed]",
      "text/plain": [
       "<Figure size 1008x432 with 2 Axes>"
      ]
     },
     "metadata": {
      "needs_background": "light"
     },
     "output_type": "display_data"
    },
    {
     "data": {
      "image/png": "[encoded data removed]",
      "text/plain": [
       "<Figure size 1008x432 with 2 Axes>"
      ]
     },
     "metadata": {
      "needs_background": "light"
     },
     "output_type": "display_data"
    },
    {
     "data": {
      "image/png": "[encoded data removed]",
      "text/plain": [
       "<Figure size 1008x432 with 2 Axes>"
      ]
     },
     "metadata": {
      "needs_background": "light"
     },
     "output_type": "display_data"
    },
    {
     "data": {
      "image/png": "[encoded data removed]",
      "text/plain": [
       "<Figure size 1008x432 with 2 Axes>"
      ]
     },
     "metadata": {
      "needs_background": "light"
     },
     "output_type": "display_data"
    },
    {
     "data": {
      "image/png": "[encoded data removed]",
      "text/plain": [
       "<Figure size 1008x432 with 2 Axes>"
      ]
     },
     "metadata": {
      "needs_background": "light"
     },
     "output_type": "display_data"
    },
    {
     "data": {
      "image/png": "[encoded data removed]",
      "text/plain": [
       "<Figure size 1008x432 with 2 Axes>"
      ]
     },
     "metadata": {
      "needs_background": "light"
     },
     "output_type": "display_data"
    },
    {
     "data": {
      "image/png": "[encoded data removed]",
      "text/plain": [
       "<Figure size 1008x432 with 2 Axes>"
      ]
     },
     "metadata": {
      "needs_background": "light"
     },
     "output_type": "display_data"
    }
   ],
   "source": [
    "#remove the warnings \n",
    "import warnings\n",
    "warnings.filterwarnings('ignore')\n",
    "\n",
    "for col in col_no_missing:\n",
    "    fig, axes = plt.subplots(1,2, figsize=(14, 6));\n",
    "    sns.countplot(df_lowna[col], ax=axes[0]);\n",
    "    sns.countplot(df_highna[col], ax=axes[1]);"
   ]
  },
  {
   "cell_type": "markdown",
   "metadata": {},
   "source": [
    "It seems pretty clear after looking at all these graphs side-by-side that there is a difference in distribution between rows with less missing and rows with many.\n",
    "\n",
    "Now lets run a Chi Squared to se how likely these differences are"
   ]
  },
  {
   "cell_type": "code",
   "execution_count": 109,
   "metadata": {},
   "outputs": [
    {
     "name": "stdout",
     "output_type": "stream",
     "text": [
      "ANREDE_KZ P-value: 0.0 \n",
      "\n",
      "FINANZ_MINIMALIST P-value: 0.0 \n",
      "\n",
      "FINANZ_SPARER P-value: 0.0 \n",
      "\n",
      "FINANZ_VORSORGER P-value: 0.0 \n",
      "\n",
      "FINANZ_ANLEGER P-value: 0.0 \n",
      "\n",
      "FINANZ_UNAUFFAELLIGER P-value: 0.0 \n",
      "\n",
      "FINANZ_HAUSBAUER P-value: 0.0 \n",
      "\n",
      "FINANZTYP P-value: 0.0 \n",
      "\n",
      "GREEN_AVANTGARDE P-value: 0.0 \n",
      "\n",
      "SEMIO_SOZ P-value: 0.0 \n",
      "\n",
      "SEMIO_FAM P-value: 0.0 \n",
      "\n",
      "SEMIO_REL P-value: 0.0 \n",
      "\n",
      "SEMIO_MAT P-value: 0.0 \n",
      "\n",
      "SEMIO_VERT P-value: 0.0 \n",
      "\n",
      "SEMIO_LUST P-value: 0.0 \n",
      "\n",
      "SEMIO_ERL P-value: 0.0 \n",
      "\n",
      "SEMIO_KULT P-value: 0.0 \n",
      "\n",
      "SEMIO_RAT P-value: 0.0 \n",
      "\n",
      "SEMIO_KRIT P-value: 0.0 \n",
      "\n",
      "SEMIO_DOM P-value: 0.0 \n",
      "\n",
      "SEMIO_KAEM P-value: 0.0 \n",
      "\n",
      "SEMIO_PFLICHT P-value: 0.0 \n",
      "\n",
      "SEMIO_TRADV P-value: 0.0 \n",
      "\n",
      "ZABEOTYP P-value: 0.0 \n",
      "\n"
     ]
    }
   ],
   "source": [
    "from scipy.stats import chisquare\n",
    "for col in col_no_missing:\n",
    "    print(str(col) + ' P-value: ', end='')\n",
    "    print(chisquare(df_highna[col].value_counts().sort_index(),\n",
    "                    df_lowna[col].value_counts().sort_index(),\n",
    "                    axis=0).pvalue, '\\n')"
   ]
  },
  {
   "cell_type": "markdown",
   "metadata": {},
   "source": [
    "As we can see all the p-values end up rounding to 0. This means that all these diffences are statistically significant. As a result we should drop the ones with high missing."
   ]
  },
  {
   "cell_type": "code",
   "execution_count": 110,
   "metadata": {},
   "outputs": [],
   "source": [
    "#drop all the rows with high missing\n",
    "df = df_lowna"
   ]
  },
  {
   "cell_type": "markdown",
   "metadata": {},
   "source": [
    "#### Discussion 1.1.3: Assess Missing Data in Each Row\n",
    "\n",
    "As we can see the rows with higher number of missing values have vastly different distributions for all the different columns we tested. We tested the columns with no missing values. When putting the distributions side-by-side you can see a huge difference between the low-missing value rows and high missing value rows.\n",
    "\n",
    "Also, when we ran a Chi-squared distribution on the different column distributions, we found that for all the different columns, we had a p-value of 0. This shows that there is a very low chance that the difference in the distributions are due to random chance."
   ]
  },
  {
   "cell_type": "markdown",
   "metadata": {},
   "source": [
    "### Step 1.2: Select and Re-Encode Features"
   ]
  },
  {
   "cell_type": "markdown",
   "metadata": {},
   "source": [
    "Lets see the different column types."
   ]
  },
  {
   "cell_type": "code",
   "execution_count": 111,
   "metadata": {},
   "outputs": [
    {
     "data": {
      "text/plain": [
       "ordinal        49\n",
       "categorical    21\n",
       "mixed           7\n",
       "numeric         7\n",
       "interval        1\n",
       "Name: type, dtype: int64"
      ]
     },
     "execution_count": 111,
     "metadata": {},
     "output_type": "execute_result"
    }
   ],
   "source": [
    "feat_info.type.value_counts()"
   ]
  },
  {
   "cell_type": "code",
   "execution_count": 112,
   "metadata": {},
   "outputs": [
    {
     "data": {
      "text/html": [
       "<div>\n",
       "<style scoped>\n",
       "    .dataframe tbody tr th:only-of-type {\n",
       "        vertical-align: middle;\n",
       "    }\n",
       "\n",
       "    .dataframe tbody tr th {\n",
       "        vertical-align: top;\n",
       "    }\n",
       "\n",
       "    .dataframe thead th {\n",
       "        text-align: right;\n",
       "    }\n",
       "</style>\n",
       "<table border=\"1\" class=\"dataframe\">\n",
       "  <thead>\n",
       "    <tr style=\"text-align: right;\">\n",
       "      <th></th>\n",
       "      <th>attribute</th>\n",
       "      <th>information_level</th>\n",
       "      <th>type</th>\n",
       "      <th>missing_or_unknown</th>\n",
       "    </tr>\n",
       "  </thead>\n",
       "  <tbody>\n",
       "    <tr>\n",
       "      <th>0</th>\n",
       "      <td>AGER_TYP</td>\n",
       "      <td>person</td>\n",
       "      <td>categorical</td>\n",
       "      <td>[-1, 0]</td>\n",
       "    </tr>\n",
       "    <tr>\n",
       "      <th>2</th>\n",
       "      <td>ANREDE_KZ</td>\n",
       "      <td>person</td>\n",
       "      <td>categorical</td>\n",
       "      <td>[-1, 0]</td>\n",
       "    </tr>\n",
       "    <tr>\n",
       "      <th>3</th>\n",
       "      <td>CJT_GESAMTTYP</td>\n",
       "      <td>person</td>\n",
       "      <td>categorical</td>\n",
       "      <td>[0]</td>\n",
       "    </tr>\n",
       "    <tr>\n",
       "      <th>10</th>\n",
       "      <td>FINANZTYP</td>\n",
       "      <td>person</td>\n",
       "      <td>categorical</td>\n",
       "      <td>[-1]</td>\n",
       "    </tr>\n",
       "    <tr>\n",
       "      <th>12</th>\n",
       "      <td>GFK_URLAUBERTYP</td>\n",
       "      <td>person</td>\n",
       "      <td>categorical</td>\n",
       "      <td>[]</td>\n",
       "    </tr>\n",
       "    <tr>\n",
       "      <th>13</th>\n",
       "      <td>GREEN_AVANTGARDE</td>\n",
       "      <td>person</td>\n",
       "      <td>categorical</td>\n",
       "      <td>[]</td>\n",
       "    </tr>\n",
       "    <tr>\n",
       "      <th>17</th>\n",
       "      <td>LP_FAMILIE_FEIN</td>\n",
       "      <td>person</td>\n",
       "      <td>categorical</td>\n",
       "      <td>[0]</td>\n",
       "    </tr>\n",
       "    <tr>\n",
       "      <th>18</th>\n",
       "      <td>LP_FAMILIE_GROB</td>\n",
       "      <td>person</td>\n",
       "      <td>categorical</td>\n",
       "      <td>[0]</td>\n",
       "    </tr>\n",
       "    <tr>\n",
       "      <th>19</th>\n",
       "      <td>LP_STATUS_FEIN</td>\n",
       "      <td>person</td>\n",
       "      <td>categorical</td>\n",
       "      <td>[0]</td>\n",
       "    </tr>\n",
       "    <tr>\n",
       "      <th>20</th>\n",
       "      <td>LP_STATUS_GROB</td>\n",
       "      <td>person</td>\n",
       "      <td>categorical</td>\n",
       "      <td>[0]</td>\n",
       "    </tr>\n",
       "    <tr>\n",
       "      <th>21</th>\n",
       "      <td>NATIONALITAET_KZ</td>\n",
       "      <td>person</td>\n",
       "      <td>categorical</td>\n",
       "      <td>[-1, 0]</td>\n",
       "    </tr>\n",
       "    <tr>\n",
       "      <th>38</th>\n",
       "      <td>SHOPPER_TYP</td>\n",
       "      <td>person</td>\n",
       "      <td>categorical</td>\n",
       "      <td>[-1]</td>\n",
       "    </tr>\n",
       "    <tr>\n",
       "      <th>39</th>\n",
       "      <td>SOHO_KZ</td>\n",
       "      <td>person</td>\n",
       "      <td>categorical</td>\n",
       "      <td>[-1]</td>\n",
       "    </tr>\n",
       "    <tr>\n",
       "      <th>40</th>\n",
       "      <td>TITEL_KZ</td>\n",
       "      <td>person</td>\n",
       "      <td>categorical</td>\n",
       "      <td>[-1, 0]</td>\n",
       "    </tr>\n",
       "    <tr>\n",
       "      <th>41</th>\n",
       "      <td>VERS_TYP</td>\n",
       "      <td>person</td>\n",
       "      <td>categorical</td>\n",
       "      <td>[-1]</td>\n",
       "    </tr>\n",
       "    <tr>\n",
       "      <th>42</th>\n",
       "      <td>ZABEOTYP</td>\n",
       "      <td>person</td>\n",
       "      <td>categorical</td>\n",
       "      <td>[-1, 9]</td>\n",
       "    </tr>\n",
       "    <tr>\n",
       "      <th>47</th>\n",
       "      <td>KK_KUNDENTYP</td>\n",
       "      <td>household</td>\n",
       "      <td>categorical</td>\n",
       "      <td>[-1]</td>\n",
       "    </tr>\n",
       "    <tr>\n",
       "      <th>52</th>\n",
       "      <td>GEBAEUDETYP</td>\n",
       "      <td>building</td>\n",
       "      <td>categorical</td>\n",
       "      <td>[-1, 0]</td>\n",
       "    </tr>\n",
       "    <tr>\n",
       "      <th>55</th>\n",
       "      <td>OST_WEST_KZ</td>\n",
       "      <td>building</td>\n",
       "      <td>categorical</td>\n",
       "      <td>[-1]</td>\n",
       "    </tr>\n",
       "    <tr>\n",
       "      <th>57</th>\n",
       "      <td>CAMEO_DEUG_2015</td>\n",
       "      <td>microcell_rr4</td>\n",
       "      <td>categorical</td>\n",
       "      <td>[-1, X]</td>\n",
       "    </tr>\n",
       "    <tr>\n",
       "      <th>58</th>\n",
       "      <td>CAMEO_DEU_2015</td>\n",
       "      <td>microcell_rr4</td>\n",
       "      <td>categorical</td>\n",
       "      <td>[XX]</td>\n",
       "    </tr>\n",
       "  </tbody>\n",
       "</table>\n",
       "</div>"
      ],
      "text/plain": [
       "           attribute information_level         type missing_or_unknown\n",
       "0           AGER_TYP            person  categorical            [-1, 0]\n",
       "2          ANREDE_KZ            person  categorical            [-1, 0]\n",
       "3      CJT_GESAMTTYP            person  categorical                [0]\n",
       "10         FINANZTYP            person  categorical               [-1]\n",
       "12   GFK_URLAUBERTYP            person  categorical                 []\n",
       "13  GREEN_AVANTGARDE            person  categorical                 []\n",
       "17   LP_FAMILIE_FEIN            person  categorical                [0]\n",
       "18   LP_FAMILIE_GROB            person  categorical                [0]\n",
       "19    LP_STATUS_FEIN            person  categorical                [0]\n",
       "20    LP_STATUS_GROB            person  categorical                [0]\n",
       "21  NATIONALITAET_KZ            person  categorical            [-1, 0]\n",
       "38       SHOPPER_TYP            person  categorical               [-1]\n",
       "39           SOHO_KZ            person  categorical               [-1]\n",
       "40          TITEL_KZ            person  categorical            [-1, 0]\n",
       "41          VERS_TYP            person  categorical               [-1]\n",
       "42          ZABEOTYP            person  categorical            [-1, 9]\n",
       "47      KK_KUNDENTYP         household  categorical               [-1]\n",
       "52       GEBAEUDETYP          building  categorical            [-1, 0]\n",
       "55       OST_WEST_KZ          building  categorical               [-1]\n",
       "57   CAMEO_DEUG_2015     microcell_rr4  categorical            [-1, X]\n",
       "58    CAMEO_DEU_2015     microcell_rr4  categorical               [XX]"
      ]
     },
     "execution_count": 112,
     "metadata": {},
     "output_type": "execute_result"
    }
   ],
   "source": [
    "#these are the categorical variables\n",
    "categorical = feat_info [ feat_info.type == 'categorical' ]\n",
    "categorical"
   ]
  },
  {
   "cell_type": "markdown",
   "metadata": {},
   "source": [
    "Though we removed certain outlier columns from the big dataframe we did not remove them from the feat_info dataframe."
   ]
  },
  {
   "cell_type": "code",
   "execution_count": 113,
   "metadata": {},
   "outputs": [
    {
     "name": "stdout",
     "output_type": "stream",
     "text": [
      "Only 18 out of 21 columns listed in feat_info actually exist in the dataframe right now\n"
     ]
    }
   ],
   "source": [
    "#there seems to be 3 categorical variables that are named differently in the feat_info and azdias\n",
    "set_of_cols = set(df.columns)\n",
    "cols = [ c for c in categorical.attribute if c in set_of_cols]\n",
    "print(\"Only {} out of {} columns listed in feat_info actually exist in the dataframe right now\".format(len(cols), len(categorical.attribute)))"
   ]
  },
  {
   "cell_type": "code",
   "execution_count": 114,
   "metadata": {},
   "outputs": [
    {
     "data": {
      "text/plain": [
       "['AGER_TYP', 'TITEL_KZ', 'KK_KUNDENTYP']"
      ]
     },
     "execution_count": 114,
     "metadata": {},
     "output_type": "execute_result"
    }
   ],
   "source": [
    "#what are those 3 columns\n",
    "not_in_cols = [ c for c in categorical.attribute if c not in set_of_cols]\n",
    "not_in_cols"
   ]
  },
  {
   "cell_type": "code",
   "execution_count": 115,
   "metadata": {},
   "outputs": [
    {
     "data": {
      "text/plain": [
       "TITEL_KZ        0.997576\n",
       "AGER_TYP        0.769554\n",
       "KK_KUNDENTYP    0.655967\n",
       "KBA05_BAUMAX    0.534687\n",
       "GEBURTSJAHR     0.440203\n",
       "ALTER_HH        0.348137\n",
       "dtype: float64"
      ]
     },
     "execution_count": 115,
     "metadata": {},
     "output_type": "execute_result"
    }
   ],
   "source": [
    "#6 outlier columns we removed\n",
    "columns_over20"
   ]
  },
  {
   "cell_type": "markdown",
   "metadata": {},
   "source": [
    "#### Step 1.2.1: Re-Encode Categorical Features"
   ]
  },
  {
   "cell_type": "markdown",
   "metadata": {},
   "source": [
    "Here I explored the 18 different categorical features. \n",
    "\n",
    "How many different values do each categorical columns have"
   ]
  },
  {
   "cell_type": "code",
   "execution_count": 116,
   "metadata": {},
   "outputs": [
    {
     "name": "stdout",
     "output_type": "stream",
     "text": [
      "ANREDE_KZ: 2\n",
      "CJT_GESAMTTYP: 6\n",
      "FINANZTYP: 6\n",
      "GFK_URLAUBERTYP: 12\n",
      "GREEN_AVANTGARDE: 2\n",
      "LP_FAMILIE_FEIN: 11\n",
      "LP_FAMILIE_GROB: 5\n",
      "LP_STATUS_FEIN: 10\n",
      "LP_STATUS_GROB: 5\n",
      "NATIONALITAET_KZ: 3\n",
      "SHOPPER_TYP: 4\n",
      "SOHO_KZ: 2\n",
      "VERS_TYP: 2\n",
      "ZABEOTYP: 6\n",
      "GEBAEUDETYP: 7\n",
      "OST_WEST_KZ: 2\n",
      "CAMEO_DEUG_2015: 9\n",
      "CAMEO_DEU_2015: 44\n"
     ]
    },
    {
     "data": {
      "text/plain": [
       "['ANREDE_KZ',\n",
       " 'GREEN_AVANTGARDE',\n",
       " 'LP_FAMILIE_GROB',\n",
       " 'LP_STATUS_GROB',\n",
       " 'NATIONALITAET_KZ',\n",
       " 'SHOPPER_TYP',\n",
       " 'SOHO_KZ',\n",
       " 'VERS_TYP',\n",
       " 'OST_WEST_KZ']"
      ]
     },
     "execution_count": 116,
     "metadata": {},
     "output_type": "execute_result"
    }
   ],
   "source": [
    "#Used 5 as th threshold\n",
    "#Any column with more than 5 was too much for me to process\n",
    "col_under_6 = [col for col in cols if len(df[col].value_counts()) < 6]\n",
    "for col in cols :\n",
    "    print(str(col) + ': ', end='')\n",
    "    print(len(df[col].value_counts()))\n",
    "col_under_6"
   ]
  },
  {
   "cell_type": "code",
   "execution_count": 117,
   "metadata": {},
   "outputs": [
    {
     "data": {
      "text/plain": [
       "ANREDE_KZ           float64\n",
       "GREEN_AVANTGARDE    float64\n",
       "LP_FAMILIE_GROB     float64\n",
       "LP_STATUS_GROB      float64\n",
       "NATIONALITAET_KZ    float64\n",
       "SHOPPER_TYP         float64\n",
       "SOHO_KZ             float64\n",
       "VERS_TYP            float64\n",
       "OST_WEST_KZ          object\n",
       "dtype: object"
      ]
     },
     "execution_count": 117,
     "metadata": {},
     "output_type": "execute_result"
    }
   ],
   "source": [
    "df[col_under_6].dtypes"
   ]
  },
  {
   "cell_type": "code",
   "execution_count": 118,
   "metadata": {},
   "outputs": [
    {
     "data": {
      "text/plain": [
       "ANREDE_KZ           object\n",
       "GREEN_AVANTGARDE    object\n",
       "LP_FAMILIE_GROB     object\n",
       "LP_STATUS_GROB      object\n",
       "NATIONALITAET_KZ    object\n",
       "SHOPPER_TYP         object\n",
       "SOHO_KZ             object\n",
       "VERS_TYP            object\n",
       "OST_WEST_KZ         object\n",
       "dtype: object"
      ]
     },
     "execution_count": 118,
     "metadata": {},
     "output_type": "execute_result"
    }
   ],
   "source": [
    "#Before processing, have to create dataframe of the categorical variables\n",
    "#have to object datatype\n",
    "#originally encoded as float64\n",
    "df_cat_u6 = df[col_under_6]\n",
    "for col in col_under_6 :\n",
    "    df_cat_u6[col] = df_cat_u6[col].astype(object)\n",
    "df_cat_u6.dtypes"
   ]
  },
  {
   "cell_type": "code",
   "execution_count": 119,
   "metadata": {},
   "outputs": [
    {
     "data": {
      "text/plain": [
       "(771701, 9)"
      ]
     },
     "execution_count": 119,
     "metadata": {},
     "output_type": "execute_result"
    }
   ],
   "source": [
    "#shape with all the categorical columns\n",
    "df_cat_u6.shape"
   ]
  },
  {
   "cell_type": "markdown",
   "metadata": {},
   "source": [
    "Instead of looking at every single column, I decied to make dummy columns for all the categorical variables."
   ]
  },
  {
   "cell_type": "code",
   "execution_count": 120,
   "metadata": {},
   "outputs": [
    {
     "data": {
      "text/plain": [
       "(771701, 18)"
      ]
     },
     "execution_count": 120,
     "metadata": {},
     "output_type": "execute_result"
    }
   ],
   "source": [
    "#will make the dummy variables out of the 6 and under columns\n",
    "categorical_dummy = pd.get_dummies(df_cat_u6, drop_first=True) \n",
    "#can drop the first to save space\n",
    "categorical_dummy.shape"
   ]
  },
  {
   "cell_type": "code",
   "execution_count": 121,
   "metadata": {},
   "outputs": [
    {
     "data": {
      "text/html": [
       "<div>\n",
       "<style scoped>\n",
       "    .dataframe tbody tr th:only-of-type {\n",
       "        vertical-align: middle;\n",
       "    }\n",
       "\n",
       "    .dataframe tbody tr th {\n",
       "        vertical-align: top;\n",
       "    }\n",
       "\n",
       "    .dataframe thead th {\n",
       "        text-align: right;\n",
       "    }\n",
       "</style>\n",
       "<table border=\"1\" class=\"dataframe\">\n",
       "  <thead>\n",
       "    <tr style=\"text-align: right;\">\n",
       "      <th></th>\n",
       "      <th>ANREDE_KZ_2.0</th>\n",
       "      <th>GREEN_AVANTGARDE_1.0</th>\n",
       "      <th>LP_FAMILIE_GROB_2.0</th>\n",
       "      <th>LP_FAMILIE_GROB_3.0</th>\n",
       "      <th>LP_FAMILIE_GROB_4.0</th>\n",
       "      <th>LP_FAMILIE_GROB_5.0</th>\n",
       "      <th>LP_STATUS_GROB_2.0</th>\n",
       "      <th>LP_STATUS_GROB_3.0</th>\n",
       "      <th>LP_STATUS_GROB_4.0</th>\n",
       "      <th>LP_STATUS_GROB_5.0</th>\n",
       "      <th>NATIONALITAET_KZ_2.0</th>\n",
       "      <th>NATIONALITAET_KZ_3.0</th>\n",
       "      <th>SHOPPER_TYP_1.0</th>\n",
       "      <th>SHOPPER_TYP_2.0</th>\n",
       "      <th>SHOPPER_TYP_3.0</th>\n",
       "      <th>SOHO_KZ_1.0</th>\n",
       "      <th>VERS_TYP_2.0</th>\n",
       "      <th>OST_WEST_KZ_W</th>\n",
       "    </tr>\n",
       "  </thead>\n",
       "  <tbody>\n",
       "    <tr>\n",
       "      <th>1</th>\n",
       "      <td>1</td>\n",
       "      <td>0</td>\n",
       "      <td>0</td>\n",
       "      <td>1</td>\n",
       "      <td>0</td>\n",
       "      <td>0</td>\n",
       "      <td>0</td>\n",
       "      <td>0</td>\n",
       "      <td>0</td>\n",
       "      <td>0</td>\n",
       "      <td>0</td>\n",
       "      <td>0</td>\n",
       "      <td>0</td>\n",
       "      <td>0</td>\n",
       "      <td>1</td>\n",
       "      <td>1</td>\n",
       "      <td>1</td>\n",
       "      <td>1</td>\n",
       "    </tr>\n",
       "    <tr>\n",
       "      <th>2</th>\n",
       "      <td>1</td>\n",
       "      <td>1</td>\n",
       "      <td>0</td>\n",
       "      <td>0</td>\n",
       "      <td>0</td>\n",
       "      <td>0</td>\n",
       "      <td>1</td>\n",
       "      <td>0</td>\n",
       "      <td>0</td>\n",
       "      <td>0</td>\n",
       "      <td>0</td>\n",
       "      <td>0</td>\n",
       "      <td>0</td>\n",
       "      <td>1</td>\n",
       "      <td>0</td>\n",
       "      <td>0</td>\n",
       "      <td>0</td>\n",
       "      <td>1</td>\n",
       "    </tr>\n",
       "    <tr>\n",
       "      <th>3</th>\n",
       "      <td>1</td>\n",
       "      <td>0</td>\n",
       "      <td>0</td>\n",
       "      <td>0</td>\n",
       "      <td>0</td>\n",
       "      <td>0</td>\n",
       "      <td>0</td>\n",
       "      <td>0</td>\n",
       "      <td>1</td>\n",
       "      <td>0</td>\n",
       "      <td>0</td>\n",
       "      <td>0</td>\n",
       "      <td>1</td>\n",
       "      <td>0</td>\n",
       "      <td>0</td>\n",
       "      <td>0</td>\n",
       "      <td>0</td>\n",
       "      <td>1</td>\n",
       "    </tr>\n",
       "    <tr>\n",
       "      <th>4</th>\n",
       "      <td>0</td>\n",
       "      <td>0</td>\n",
       "      <td>0</td>\n",
       "      <td>0</td>\n",
       "      <td>0</td>\n",
       "      <td>1</td>\n",
       "      <td>1</td>\n",
       "      <td>0</td>\n",
       "      <td>0</td>\n",
       "      <td>0</td>\n",
       "      <td>0</td>\n",
       "      <td>0</td>\n",
       "      <td>0</td>\n",
       "      <td>1</td>\n",
       "      <td>0</td>\n",
       "      <td>0</td>\n",
       "      <td>1</td>\n",
       "      <td>1</td>\n",
       "    </tr>\n",
       "    <tr>\n",
       "      <th>5</th>\n",
       "      <td>1</td>\n",
       "      <td>0</td>\n",
       "      <td>0</td>\n",
       "      <td>0</td>\n",
       "      <td>0</td>\n",
       "      <td>0</td>\n",
       "      <td>1</td>\n",
       "      <td>0</td>\n",
       "      <td>0</td>\n",
       "      <td>0</td>\n",
       "      <td>0</td>\n",
       "      <td>0</td>\n",
       "      <td>0</td>\n",
       "      <td>0</td>\n",
       "      <td>0</td>\n",
       "      <td>0</td>\n",
       "      <td>1</td>\n",
       "      <td>1</td>\n",
       "    </tr>\n",
       "    <tr>\n",
       "      <th>...</th>\n",
       "      <td>...</td>\n",
       "      <td>...</td>\n",
       "      <td>...</td>\n",
       "      <td>...</td>\n",
       "      <td>...</td>\n",
       "      <td>...</td>\n",
       "      <td>...</td>\n",
       "      <td>...</td>\n",
       "      <td>...</td>\n",
       "      <td>...</td>\n",
       "      <td>...</td>\n",
       "      <td>...</td>\n",
       "      <td>...</td>\n",
       "      <td>...</td>\n",
       "      <td>...</td>\n",
       "      <td>...</td>\n",
       "      <td>...</td>\n",
       "      <td>...</td>\n",
       "    </tr>\n",
       "    <tr>\n",
       "      <th>891216</th>\n",
       "      <td>1</td>\n",
       "      <td>0</td>\n",
       "      <td>0</td>\n",
       "      <td>0</td>\n",
       "      <td>0</td>\n",
       "      <td>0</td>\n",
       "      <td>0</td>\n",
       "      <td>0</td>\n",
       "      <td>0</td>\n",
       "      <td>0</td>\n",
       "      <td>0</td>\n",
       "      <td>0</td>\n",
       "      <td>0</td>\n",
       "      <td>0</td>\n",
       "      <td>1</td>\n",
       "      <td>0</td>\n",
       "      <td>0</td>\n",
       "      <td>1</td>\n",
       "    </tr>\n",
       "    <tr>\n",
       "      <th>891217</th>\n",
       "      <td>0</td>\n",
       "      <td>0</td>\n",
       "      <td>0</td>\n",
       "      <td>0</td>\n",
       "      <td>0</td>\n",
       "      <td>0</td>\n",
       "      <td>0</td>\n",
       "      <td>0</td>\n",
       "      <td>0</td>\n",
       "      <td>0</td>\n",
       "      <td>0</td>\n",
       "      <td>0</td>\n",
       "      <td>0</td>\n",
       "      <td>0</td>\n",
       "      <td>0</td>\n",
       "      <td>0</td>\n",
       "      <td>0</td>\n",
       "      <td>1</td>\n",
       "    </tr>\n",
       "    <tr>\n",
       "      <th>891218</th>\n",
       "      <td>1</td>\n",
       "      <td>0</td>\n",
       "      <td>0</td>\n",
       "      <td>0</td>\n",
       "      <td>0</td>\n",
       "      <td>0</td>\n",
       "      <td>1</td>\n",
       "      <td>0</td>\n",
       "      <td>0</td>\n",
       "      <td>0</td>\n",
       "      <td>0</td>\n",
       "      <td>0</td>\n",
       "      <td>0</td>\n",
       "      <td>1</td>\n",
       "      <td>0</td>\n",
       "      <td>0</td>\n",
       "      <td>0</td>\n",
       "      <td>1</td>\n",
       "    </tr>\n",
       "    <tr>\n",
       "      <th>891219</th>\n",
       "      <td>0</td>\n",
       "      <td>0</td>\n",
       "      <td>0</td>\n",
       "      <td>0</td>\n",
       "      <td>0</td>\n",
       "      <td>1</td>\n",
       "      <td>0</td>\n",
       "      <td>0</td>\n",
       "      <td>0</td>\n",
       "      <td>0</td>\n",
       "      <td>0</td>\n",
       "      <td>0</td>\n",
       "      <td>0</td>\n",
       "      <td>0</td>\n",
       "      <td>0</td>\n",
       "      <td>0</td>\n",
       "      <td>1</td>\n",
       "      <td>1</td>\n",
       "    </tr>\n",
       "    <tr>\n",
       "      <th>891220</th>\n",
       "      <td>0</td>\n",
       "      <td>0</td>\n",
       "      <td>0</td>\n",
       "      <td>0</td>\n",
       "      <td>0</td>\n",
       "      <td>0</td>\n",
       "      <td>0</td>\n",
       "      <td>0</td>\n",
       "      <td>0</td>\n",
       "      <td>0</td>\n",
       "      <td>0</td>\n",
       "      <td>0</td>\n",
       "      <td>0</td>\n",
       "      <td>1</td>\n",
       "      <td>0</td>\n",
       "      <td>0</td>\n",
       "      <td>0</td>\n",
       "      <td>1</td>\n",
       "    </tr>\n",
       "  </tbody>\n",
       "</table>\n",
       "<p>771701 rows × 18 columns</p>\n",
       "</div>"
      ],
      "text/plain": [
       "        ANREDE_KZ_2.0  GREEN_AVANTGARDE_1.0  LP_FAMILIE_GROB_2.0  \\\n",
       "1                   1                     0                    0   \n",
       "2                   1                     1                    0   \n",
       "3                   1                     0                    0   \n",
       "4                   0                     0                    0   \n",
       "5                   1                     0                    0   \n",
       "...               ...                   ...                  ...   \n",
       "891216              1                     0                    0   \n",
       "891217              0                     0                    0   \n",
       "891218              1                     0                    0   \n",
       "891219              0                     0                    0   \n",
       "891220              0                     0                    0   \n",
       "\n",
       "        LP_FAMILIE_GROB_3.0  LP_FAMILIE_GROB_4.0  LP_FAMILIE_GROB_5.0  \\\n",
       "1                         1                    0                    0   \n",
       "2                         0                    0                    0   \n",
       "3                         0                    0                    0   \n",
       "4                         0                    0                    1   \n",
       "5                         0                    0                    0   \n",
       "...                     ...                  ...                  ...   \n",
       "891216                    0                    0                    0   \n",
       "891217                    0                    0                    0   \n",
       "891218                    0                    0                    0   \n",
       "891219                    0                    0                    1   \n",
       "891220                    0                    0                    0   \n",
       "\n",
       "        LP_STATUS_GROB_2.0  LP_STATUS_GROB_3.0  LP_STATUS_GROB_4.0  \\\n",
       "1                        0                   0                   0   \n",
       "2                        1                   0                   0   \n",
       "3                        0                   0                   1   \n",
       "4                        1                   0                   0   \n",
       "5                        1                   0                   0   \n",
       "...                    ...                 ...                 ...   \n",
       "891216                   0                   0                   0   \n",
       "891217                   0                   0                   0   \n",
       "891218                   1                   0                   0   \n",
       "891219                   0                   0                   0   \n",
       "891220                   0                   0                   0   \n",
       "\n",
       "        LP_STATUS_GROB_5.0  NATIONALITAET_KZ_2.0  NATIONALITAET_KZ_3.0  \\\n",
       "1                        0                     0                     0   \n",
       "2                        0                     0                     0   \n",
       "3                        0                     0                     0   \n",
       "4                        0                     0                     0   \n",
       "5                        0                     0                     0   \n",
       "...                    ...                   ...                   ...   \n",
       "891216                   0                     0                     0   \n",
       "891217                   0                     0                     0   \n",
       "891218                   0                     0                     0   \n",
       "891219                   0                     0                     0   \n",
       "891220                   0                     0                     0   \n",
       "\n",
       "        SHOPPER_TYP_1.0  SHOPPER_TYP_2.0  SHOPPER_TYP_3.0  SOHO_KZ_1.0  \\\n",
       "1                     0                0                1            1   \n",
       "2                     0                1                0            0   \n",
       "3                     1                0                0            0   \n",
       "4                     0                1                0            0   \n",
       "5                     0                0                0            0   \n",
       "...                 ...              ...              ...          ...   \n",
       "891216                0                0                1            0   \n",
       "891217                0                0                0            0   \n",
       "891218                0                1                0            0   \n",
       "891219                0                0                0            0   \n",
       "891220                0                1                0            0   \n",
       "\n",
       "        VERS_TYP_2.0  OST_WEST_KZ_W  \n",
       "1                  1              1  \n",
       "2                  0              1  \n",
       "3                  0              1  \n",
       "4                  1              1  \n",
       "5                  1              1  \n",
       "...              ...            ...  \n",
       "891216             0              1  \n",
       "891217             0              1  \n",
       "891218             0              1  \n",
       "891219             1              1  \n",
       "891220             0              1  \n",
       "\n",
       "[771701 rows x 18 columns]"
      ]
     },
     "execution_count": 121,
     "metadata": {},
     "output_type": "execute_result"
    }
   ],
   "source": [
    "categorical_dummy"
   ]
  },
  {
   "cell_type": "markdown",
   "metadata": {},
   "source": [
    "Now I will replace the original categorical columns with either their dummy columns or remove them from analysis."
   ]
  },
  {
   "cell_type": "code",
   "execution_count": 122,
   "metadata": {},
   "outputs": [
    {
     "data": {
      "text/plain": [
       "(771701, 79)"
      ]
     },
     "execution_count": 122,
     "metadata": {},
     "output_type": "execute_result"
    }
   ],
   "source": [
    "df.shape"
   ]
  },
  {
   "cell_type": "code",
   "execution_count": 123,
   "metadata": {},
   "outputs": [
    {
     "data": {
      "text/plain": [
       "(771701, 61)"
      ]
     },
     "execution_count": 123,
     "metadata": {},
     "output_type": "execute_result"
    }
   ],
   "source": [
    "#dropped the 18 categorical variables\n",
    "df2 = df.drop(columns=cols)\n",
    "df2.shape"
   ]
  },
  {
   "cell_type": "code",
   "execution_count": 124,
   "metadata": {},
   "outputs": [
    {
     "data": {
      "text/plain": [
       "(771701, 79)"
      ]
     },
     "execution_count": 124,
     "metadata": {},
     "output_type": "execute_result"
    }
   ],
   "source": [
    "df = pd.concat([df2, categorical_dummy], axis=1)\n",
    "df.shape"
   ]
  },
  {
   "cell_type": "markdown",
   "metadata": {},
   "source": [
    "#### Discussion 1.2.1: Re-Encode Categorical Features\n",
    "\n",
    "Because there were 18+ categorical variables each with their own different encoding, to save time I looked at the different levels of each categorical variable. I used my discretion on what to do with the categorical variable. Obviously for binary columns, I kept them and made them dummies. For others if the column had 5 or less types I kept the column for analysis and made dummy columns."
   ]
  },
  {
   "cell_type": "markdown",
   "metadata": {},
   "source": [
    "#### Step 1.2.2: Engineer Mixed-Type Features"
   ]
  },
  {
   "cell_type": "code",
   "execution_count": 125,
   "metadata": {},
   "outputs": [
    {
     "data": {
      "text/html": [
       "<div>\n",
       "<style scoped>\n",
       "    .dataframe tbody tr th:only-of-type {\n",
       "        vertical-align: middle;\n",
       "    }\n",
       "\n",
       "    .dataframe tbody tr th {\n",
       "        vertical-align: top;\n",
       "    }\n",
       "\n",
       "    .dataframe thead th {\n",
       "        text-align: right;\n",
       "    }\n",
       "</style>\n",
       "<table border=\"1\" class=\"dataframe\">\n",
       "  <thead>\n",
       "    <tr style=\"text-align: right;\">\n",
       "      <th></th>\n",
       "      <th>attribute</th>\n",
       "      <th>information_level</th>\n",
       "      <th>type</th>\n",
       "      <th>missing_or_unknown</th>\n",
       "    </tr>\n",
       "  </thead>\n",
       "  <tbody>\n",
       "    <tr>\n",
       "      <th>15</th>\n",
       "      <td>LP_LEBENSPHASE_FEIN</td>\n",
       "      <td>person</td>\n",
       "      <td>mixed</td>\n",
       "      <td>[0]</td>\n",
       "    </tr>\n",
       "    <tr>\n",
       "      <th>16</th>\n",
       "      <td>LP_LEBENSPHASE_GROB</td>\n",
       "      <td>person</td>\n",
       "      <td>mixed</td>\n",
       "      <td>[0]</td>\n",
       "    </tr>\n",
       "    <tr>\n",
       "      <th>22</th>\n",
       "      <td>PRAEGENDE_JUGENDJAHRE</td>\n",
       "      <td>person</td>\n",
       "      <td>mixed</td>\n",
       "      <td>[-1, 0]</td>\n",
       "    </tr>\n",
       "    <tr>\n",
       "      <th>56</th>\n",
       "      <td>WOHNLAGE</td>\n",
       "      <td>building</td>\n",
       "      <td>mixed</td>\n",
       "      <td>[-1]</td>\n",
       "    </tr>\n",
       "    <tr>\n",
       "      <th>59</th>\n",
       "      <td>CAMEO_INTL_2015</td>\n",
       "      <td>microcell_rr4</td>\n",
       "      <td>mixed</td>\n",
       "      <td>[-1, XX]</td>\n",
       "    </tr>\n",
       "    <tr>\n",
       "      <th>64</th>\n",
       "      <td>KBA05_BAUMAX</td>\n",
       "      <td>microcell_rr3</td>\n",
       "      <td>mixed</td>\n",
       "      <td>[-1, 0]</td>\n",
       "    </tr>\n",
       "    <tr>\n",
       "      <th>79</th>\n",
       "      <td>PLZ8_BAUMAX</td>\n",
       "      <td>macrocell_plz8</td>\n",
       "      <td>mixed</td>\n",
       "      <td>[-1, 0]</td>\n",
       "    </tr>\n",
       "  </tbody>\n",
       "</table>\n",
       "</div>"
      ],
      "text/plain": [
       "                attribute information_level   type missing_or_unknown\n",
       "15    LP_LEBENSPHASE_FEIN            person  mixed                [0]\n",
       "16    LP_LEBENSPHASE_GROB            person  mixed                [0]\n",
       "22  PRAEGENDE_JUGENDJAHRE            person  mixed            [-1, 0]\n",
       "56               WOHNLAGE          building  mixed               [-1]\n",
       "59        CAMEO_INTL_2015     microcell_rr4  mixed           [-1, XX]\n",
       "64           KBA05_BAUMAX     microcell_rr3  mixed            [-1, 0]\n",
       "79            PLZ8_BAUMAX    macrocell_plz8  mixed            [-1, 0]"
      ]
     },
     "execution_count": 125,
     "metadata": {},
     "output_type": "execute_result"
    }
   ],
   "source": [
    "#these are the mixed variables\n",
    "mixed = feat_info [ feat_info.type == 'mixed' ]\n",
    "mixed"
   ]
  },
  {
   "cell_type": "markdown",
   "metadata": {},
   "source": [
    "Investigate \"PRAEGENDE_JUGENDJAHRE\" and engineer two new variables."
   ]
  },
  {
   "cell_type": "code",
   "execution_count": 126,
   "metadata": {},
   "outputs": [
    {
     "data": {
      "text/plain": [
       "array([14., 15.,  8.,  3., 10., 11.,  5.,  9.,  6.,  4., nan,  2.,  1.,\n",
       "       12., 13.,  7.])"
      ]
     },
     "execution_count": 126,
     "metadata": {},
     "output_type": "execute_result"
    }
   ],
   "source": [
    "\"\"\"\n",
    "Dominating movement of person's youth (avantgarde vs. mainstream; east vs. west)\n",
    "- -1: unknown\n",
    "-  0: unknown\n",
    "-  1: 40s - war years (Mainstream, E+W)\n",
    "-  2: 40s - reconstruction years (Avantgarde, E+W)\n",
    "-  3: 50s - economic miracle (Mainstream, E+W)\n",
    "-  4: 50s - milk bar / Individualisation (Avantgarde, E+W)\n",
    "-  5: 60s - economic miracle (Mainstream, E+W)\n",
    "-  6: 60s - generation 68 / student protestors (Avantgarde, W)\n",
    "-  7: 60s - opponents to the building of the Wall (Avantgarde, E)\n",
    "-  8: 70s - family orientation (Mainstream, E+W)\n",
    "-  9: 70s - peace movement (Avantgarde, E+W)\n",
    "- 10: 80s - Generation Golf (Mainstream, W)\n",
    "- 11: 80s - ecological awareness (Avantgarde, W)\n",
    "- 12: 80s - FDJ / communist party youth organisation (Mainstream, E)\n",
    "- 13: 80s - Swords into ploughshares (Avantgarde, E)\n",
    "- 14: 90s - digital media kids (Mainstream, E+W)\n",
    "- 15: 90s - ecological awareness (Avantgarde, E+W)\n",
    "\"\"\"\n",
    "df['PRAEGENDE_JUGENDJAHRE'].unique()"
   ]
  },
  {
   "cell_type": "markdown",
   "metadata": {},
   "source": [
    "Extracted the decade out of the PRAEGENDE_JUGENDJAHRE column"
   ]
  },
  {
   "cell_type": "code",
   "execution_count": 127,
   "metadata": {},
   "outputs": [],
   "source": [
    "def get_decade(i) :\n",
    "    \"\"\"\n",
    "    inputs :\n",
    "    i - integer\n",
    "    output :\n",
    "    the correct decade according to the dictionary under PRAEGENDE_JUGENDJAHRE\n",
    "    single digit integers representing the decade (4: 40s, 5: 50s, 6: 60s, etc.)\n",
    "    -helper function\n",
    "    \"\"\"\n",
    "    if i in [1, 2] :\n",
    "        return 4\n",
    "    if i in [3, 4] :\n",
    "        return 5\n",
    "    if i in [5, 6, 7] :\n",
    "        return 6\n",
    "    if i in [8, 9] :\n",
    "        return 7\n",
    "    if i in [10, 11, 12, 13] :\n",
    "        return 8\n",
    "    if i in [14, 15] :\n",
    "        return 9\n",
    "    else : \n",
    "        return np.nan\n",
    "df['DECADE'] = df['PRAEGENDE_JUGENDJAHRE'].apply(get_decade)"
   ]
  },
  {
   "cell_type": "markdown",
   "metadata": {},
   "source": [
    "Extracted whether or not the movement was Avangarde or not out of the PRAEGENDE_JUGENDJAHRE column."
   ]
  },
  {
   "cell_type": "code",
   "execution_count": 128,
   "metadata": {},
   "outputs": [],
   "source": [
    "def in_avangarde(i) :\n",
    "    \"\"\"\n",
    "    inputs :\n",
    "    i - integer\n",
    "    output :\n",
    "    1 if the movement is avangarde and 0 if the movement is mainstream\n",
    "    all NaN left as NaN\n",
    "    -looked at the dictionary under PRAEGENDE_JUGENDJAHRE\n",
    "    \"\"\"\n",
    "    mainstream = [1, 3, 5, 8, 12, 14]\n",
    "    avantgarde = [2, 4, 6, 7, 9, 13, 15]\n",
    "    if (i in avantgarde) :\n",
    "        return 1\n",
    "    if (i in mainstream) :\n",
    "        return 0\n",
    "    return None\n",
    "\n",
    "df['AVANGARDE_MOVEMENT'] = df['PRAEGENDE_JUGENDJAHRE'].apply(in_avangarde)"
   ]
  },
  {
   "cell_type": "code",
   "execution_count": 129,
   "metadata": {},
   "outputs": [
    {
     "data": {
      "text/html": [
       "<div>\n",
       "<style scoped>\n",
       "    .dataframe tbody tr th:only-of-type {\n",
       "        vertical-align: middle;\n",
       "    }\n",
       "\n",
       "    .dataframe tbody tr th {\n",
       "        vertical-align: top;\n",
       "    }\n",
       "\n",
       "    .dataframe thead th {\n",
       "        text-align: right;\n",
       "    }\n",
       "</style>\n",
       "<table border=\"1\" class=\"dataframe\">\n",
       "  <thead>\n",
       "    <tr style=\"text-align: right;\">\n",
       "      <th></th>\n",
       "      <th>PRAEGENDE_JUGENDJAHRE</th>\n",
       "      <th>DECADE</th>\n",
       "      <th>AVANGARDE_MOVEMENT</th>\n",
       "    </tr>\n",
       "  </thead>\n",
       "  <tbody>\n",
       "    <tr>\n",
       "      <th>1</th>\n",
       "      <td>14.0</td>\n",
       "      <td>9.0</td>\n",
       "      <td>0.0</td>\n",
       "    </tr>\n",
       "    <tr>\n",
       "      <th>2</th>\n",
       "      <td>15.0</td>\n",
       "      <td>9.0</td>\n",
       "      <td>1.0</td>\n",
       "    </tr>\n",
       "    <tr>\n",
       "      <th>3</th>\n",
       "      <td>8.0</td>\n",
       "      <td>7.0</td>\n",
       "      <td>0.0</td>\n",
       "    </tr>\n",
       "    <tr>\n",
       "      <th>4</th>\n",
       "      <td>8.0</td>\n",
       "      <td>7.0</td>\n",
       "      <td>0.0</td>\n",
       "    </tr>\n",
       "    <tr>\n",
       "      <th>5</th>\n",
       "      <td>3.0</td>\n",
       "      <td>5.0</td>\n",
       "      <td>0.0</td>\n",
       "    </tr>\n",
       "    <tr>\n",
       "      <th>6</th>\n",
       "      <td>10.0</td>\n",
       "      <td>8.0</td>\n",
       "      <td>NaN</td>\n",
       "    </tr>\n",
       "    <tr>\n",
       "      <th>7</th>\n",
       "      <td>8.0</td>\n",
       "      <td>7.0</td>\n",
       "      <td>0.0</td>\n",
       "    </tr>\n",
       "    <tr>\n",
       "      <th>8</th>\n",
       "      <td>11.0</td>\n",
       "      <td>8.0</td>\n",
       "      <td>NaN</td>\n",
       "    </tr>\n",
       "    <tr>\n",
       "      <th>9</th>\n",
       "      <td>15.0</td>\n",
       "      <td>9.0</td>\n",
       "      <td>1.0</td>\n",
       "    </tr>\n",
       "    <tr>\n",
       "      <th>10</th>\n",
       "      <td>3.0</td>\n",
       "      <td>5.0</td>\n",
       "      <td>0.0</td>\n",
       "    </tr>\n",
       "  </tbody>\n",
       "</table>\n",
       "</div>"
      ],
      "text/plain": [
       "    PRAEGENDE_JUGENDJAHRE  DECADE  AVANGARDE_MOVEMENT\n",
       "1                    14.0     9.0                 0.0\n",
       "2                    15.0     9.0                 1.0\n",
       "3                     8.0     7.0                 0.0\n",
       "4                     8.0     7.0                 0.0\n",
       "5                     3.0     5.0                 0.0\n",
       "6                    10.0     8.0                 NaN\n",
       "7                     8.0     7.0                 0.0\n",
       "8                    11.0     8.0                 NaN\n",
       "9                    15.0     9.0                 1.0\n",
       "10                    3.0     5.0                 0.0"
      ]
     },
     "execution_count": 129,
     "metadata": {},
     "output_type": "execute_result"
    }
   ],
   "source": [
    "#engineered features alongside the original\n",
    "df[['PRAEGENDE_JUGENDJAHRE', 'DECADE','AVANGARDE_MOVEMENT']].head(10)"
   ]
  },
  {
   "cell_type": "markdown",
   "metadata": {},
   "source": [
    "Investigate \"CAMEO_INTL_2015\" and engineer two new variables"
   ]
  },
  {
   "cell_type": "code",
   "execution_count": 130,
   "metadata": {},
   "outputs": [
    {
     "data": {
      "text/plain": [
       "array(['51', '24', '12', '43', '54', '22', '14', '13', '15', '33', '41',\n",
       "       '34', '55', '25', nan, '23', '31', '52', '35', '45', '44', '32'],\n",
       "      dtype=object)"
      ]
     },
     "execution_count": 130,
     "metadata": {},
     "output_type": "execute_result"
    }
   ],
   "source": [
    "\"\"\"\n",
    "German CAMEO: Wealth / Life Stage Typology, mapped to international code\n",
    "- -1: unknown\n",
    "- 11: Wealthy Households - Pre-Family Couples & Singles\n",
    "- 12: Wealthy Households - Young Couples With Children\n",
    "- 13: Wealthy Households - Families With School Age Children\n",
    "- 14: Wealthy Households - Older Families &  Mature Couples\n",
    "- 15: Wealthy Households - Elders In Retirement\n",
    "- 21: Prosperous Households - Pre-Family Couples & Singles\n",
    "- 22: Prosperous Households - Young Couples With Children\n",
    "- 23: Prosperous Households - Families With School Age Children\n",
    "- 24: Prosperous Households - Older Families & Mature Couples\n",
    "- 25: Prosperous Households - Elders In Retirement\n",
    "- 31: Comfortable Households - Pre-Family Couples & Singles\n",
    "- 32: Comfortable Households - Young Couples With Children\n",
    "- 33: Comfortable Households - Families With School Age Children\n",
    "- 34: Comfortable Households - Older Families & Mature Couples\n",
    "- 35: Comfortable Households - Elders In Retirement\n",
    "- 41: Less Affluent Households - Pre-Family Couples & Singles\n",
    "- 42: Less Affluent Households - Young Couples With Children\n",
    "- 43: Less Affluent Households - Families With School Age Children\n",
    "- 44: Less Affluent Households - Older Families & Mature Couples\n",
    "- 45: Less Affluent Households - Elders In Retirement\n",
    "- 51: Poorer Households - Pre-Family Couples & Singles\n",
    "- 52: Poorer Households - Young Couples With Children\n",
    "- 53: Poorer Households - Families With School Age Children\n",
    "- 54: Poorer Households - Older Families & Mature Couples\n",
    "- 55: Poorer Households - Elders In Retirement\n",
    "- XX: unknown\n",
    "\n",
    "\n",
    "\"CAMEO_INTL_2015\" combines information on two axes: wealth and life stage. \n",
    "Break up the two-digit codes by their 'tens'-place and 'ones'-place digits \n",
    "into two new ordinal variables (which, for the purposes of this project, \n",
    "is equivalent to just treating them as their raw numeric values).\n",
    "\"\"\"\n",
    "df['CAMEO_INTL_2015'].unique()"
   ]
  },
  {
   "cell_type": "code",
   "execution_count": 131,
   "metadata": {},
   "outputs": [
    {
     "data": {
      "text/html": [
       "<div>\n",
       "<style scoped>\n",
       "    .dataframe tbody tr th:only-of-type {\n",
       "        vertical-align: middle;\n",
       "    }\n",
       "\n",
       "    .dataframe tbody tr th {\n",
       "        vertical-align: top;\n",
       "    }\n",
       "\n",
       "    .dataframe thead th {\n",
       "        text-align: right;\n",
       "    }\n",
       "</style>\n",
       "<table border=\"1\" class=\"dataframe\">\n",
       "  <thead>\n",
       "    <tr style=\"text-align: right;\">\n",
       "      <th></th>\n",
       "      <th>CAMEO_INTL_2015</th>\n",
       "      <th>HOUSEHOLD_POVERTY</th>\n",
       "      <th>HOUSEHOLD_AGE</th>\n",
       "    </tr>\n",
       "  </thead>\n",
       "  <tbody>\n",
       "    <tr>\n",
       "      <th>1</th>\n",
       "      <td>51</td>\n",
       "      <td>5.0</td>\n",
       "      <td>1.0</td>\n",
       "    </tr>\n",
       "    <tr>\n",
       "      <th>2</th>\n",
       "      <td>24</td>\n",
       "      <td>2.0</td>\n",
       "      <td>4.0</td>\n",
       "    </tr>\n",
       "    <tr>\n",
       "      <th>3</th>\n",
       "      <td>12</td>\n",
       "      <td>1.0</td>\n",
       "      <td>2.0</td>\n",
       "    </tr>\n",
       "    <tr>\n",
       "      <th>4</th>\n",
       "      <td>43</td>\n",
       "      <td>4.0</td>\n",
       "      <td>3.0</td>\n",
       "    </tr>\n",
       "    <tr>\n",
       "      <th>5</th>\n",
       "      <td>54</td>\n",
       "      <td>5.0</td>\n",
       "      <td>4.0</td>\n",
       "    </tr>\n",
       "    <tr>\n",
       "      <th>6</th>\n",
       "      <td>22</td>\n",
       "      <td>2.0</td>\n",
       "      <td>2.0</td>\n",
       "    </tr>\n",
       "    <tr>\n",
       "      <th>7</th>\n",
       "      <td>14</td>\n",
       "      <td>1.0</td>\n",
       "      <td>4.0</td>\n",
       "    </tr>\n",
       "    <tr>\n",
       "      <th>8</th>\n",
       "      <td>13</td>\n",
       "      <td>1.0</td>\n",
       "      <td>3.0</td>\n",
       "    </tr>\n",
       "    <tr>\n",
       "      <th>9</th>\n",
       "      <td>15</td>\n",
       "      <td>1.0</td>\n",
       "      <td>5.0</td>\n",
       "    </tr>\n",
       "    <tr>\n",
       "      <th>10</th>\n",
       "      <td>51</td>\n",
       "      <td>5.0</td>\n",
       "      <td>1.0</td>\n",
       "    </tr>\n",
       "  </tbody>\n",
       "</table>\n",
       "</div>"
      ],
      "text/plain": [
       "   CAMEO_INTL_2015  HOUSEHOLD_POVERTY  HOUSEHOLD_AGE\n",
       "1               51                5.0            1.0\n",
       "2               24                2.0            4.0\n",
       "3               12                1.0            2.0\n",
       "4               43                4.0            3.0\n",
       "5               54                5.0            4.0\n",
       "6               22                2.0            2.0\n",
       "7               14                1.0            4.0\n",
       "8               13                1.0            3.0\n",
       "9               15                1.0            5.0\n",
       "10              51                5.0            1.0"
      ]
     },
     "execution_count": 131,
     "metadata": {},
     "output_type": "execute_result"
    }
   ],
   "source": [
    "#feature engineering functions\n",
    "def extract_poor(s) :\n",
    "    \"\"\"\n",
    "    inputs :\n",
    "    i - string type programatically but actually 2-digit number\n",
    "    output :\n",
    "    Extracts how poor the family is (represented by first digit)\n",
    "    -looked at the dictionary under CAMEO_INTL_2015\n",
    "    \"\"\"\n",
    "    if type(s) == str :\n",
    "        return float(s[0])\n",
    "    return s\n",
    "\n",
    "def extract_age(s) :\n",
    "    \"\"\"\n",
    "    inputs :\n",
    "    i - string type programatically but actually 2-digit number\n",
    "    output :\n",
    "    Extracts family age (represented by second digit)\n",
    "    -looked at the dictionary under CAMEO_INTL_2015\n",
    "    \"\"\"\n",
    "    if type(s) == str :\n",
    "        return float(s[1])\n",
    "    return s\n",
    "\n",
    "#Engineer the different features\n",
    "df['HOUSEHOLD_POVERTY'] = df['CAMEO_INTL_2015'].apply(extract_poor)\n",
    "df['HOUSEHOLD_AGE'] = df['CAMEO_INTL_2015'].apply(extract_age)\n",
    "\n",
    "#See newly engineered features alongside original feature\n",
    "df[['CAMEO_INTL_2015', 'HOUSEHOLD_POVERTY', 'HOUSEHOLD_AGE']].head(10)"
   ]
  },
  {
   "cell_type": "code",
   "execution_count": 132,
   "metadata": {},
   "outputs": [],
   "source": [
    "mixed_columns = ['PRAEGENDE_JUGENDJAHRE', 'CAMEO_INTL_2015', 'LP_LEBENSPHASE_FEIN', 'LP_LEBENSPHASE_GROB', 'WOHNLAGE', 'PLZ8_BAUMAX']"
   ]
  },
  {
   "cell_type": "code",
   "execution_count": 133,
   "metadata": {},
   "outputs": [
    {
     "name": "stdout",
     "output_type": "stream",
     "text": [
      "PRAEGENDE_JUGENDJAHRE: 16\n",
      "CAMEO_INTL_2015: 22\n",
      "LP_LEBENSPHASE_FEIN: 41\n",
      "LP_LEBENSPHASE_GROB: 13\n",
      "WOHNLAGE: 8\n",
      "PLZ8_BAUMAX: 6\n"
     ]
    }
   ],
   "source": [
    "#Wanted to see how many different types the other mixed variables had\n",
    "for col in mixed_columns :\n",
    "    print(col, end=': ')\n",
    "    print( len(df[col].unique()) )"
   ]
  },
  {
   "cell_type": "code",
   "execution_count": 134,
   "metadata": {},
   "outputs": [
    {
     "data": {
      "text/plain": [
       "array([ 1.,  2., nan,  4.,  5.,  3.])"
      ]
     },
     "execution_count": 134,
     "metadata": {},
     "output_type": "execute_result"
    }
   ],
   "source": [
    "df['PLZ8_BAUMAX'].unique()"
   ]
  },
  {
   "cell_type": "code",
   "execution_count": 135,
   "metadata": {},
   "outputs": [],
   "source": [
    "#not too many levels so I decided to make dummy columns\n",
    "df['PLZ8_BAUMAX'].unique()\n",
    "temp_df = df[['PLZ8_BAUMAX']]\n",
    "temp_df['PLZ8_BAUMAX'] = temp_df['PLZ8_BAUMAX'].astype('object')\n",
    "temp_df = pd.get_dummies(temp_df)\n",
    "temp_df.columns = ['1to2_FAMILY_HOMES', '3to5_FAMILY_HOMES', \n",
    "                   '6to10_FAMILY_HOMES', 'OVER_10_FAMILY_HOMES', 'BUSINESS_BUILDINGS'\n",
    "                  ]\n",
    "df = pd.concat([df, temp_df], axis=1)"
   ]
  },
  {
   "cell_type": "code",
   "execution_count": 136,
   "metadata": {},
   "outputs": [],
   "source": [
    "df.drop(columns=mixed_columns, inplace=True)"
   ]
  },
  {
   "cell_type": "markdown",
   "metadata": {},
   "source": [
    "#### Discussion 1.2.2: Engineer Mixed-Type Features\n",
    "\n",
    "Using PRAEGENDE_JUGENDJAHRE, I engineered 2 new variables (the decade and whether the movement is avangarde\n",
    "\n",
    "Using CAMEO_INTL_2015, I engineered 2 new variabls (household age andd household poverty).\n",
    "\n",
    "I saw that all the other mixed variables were too mixed and complicated for me to come up with good structures. I did see that the PLZ8_BAUMAX had only 6 different values. As a result I thought it was worth it to convert it into dummy columns.\n",
    "\n",
    "For the others I just dropped them."
   ]
  },
  {
   "cell_type": "markdown",
   "metadata": {},
   "source": [
    "### Step 1.3: Create a Cleaning Function\n",
    "\n",
    "Even though you've finished cleaning up the general population demographics data, it's important to look ahead to the future and realize that you'll need to perform the same cleaning steps on the customer demographics data. In this substep, complete the function below to execute the main feature selection, encoding, and re-engineering steps you performed above. Then, when it comes to looking at the customer data in Step 3, you can just run this function on that DataFrame to get the trimmed dataset in a single step."
   ]
  },
  {
   "cell_type": "code",
   "execution_count": 137,
   "metadata": {},
   "outputs": [],
   "source": [
    "\"\"\"\n",
    "In this clean method I used HELPER FUNCTIONS. \n",
    "To see more details in these helper functions,\n",
    "scroll up. The helper functions are:\n",
    "-convert\n",
    "-create_list\n",
    "-get_decade\n",
    "-in_avangarde\n",
    "\"\"\"\n",
    "\n",
    "def clean_data(df, cthreshold=0.2):\n",
    "    \"\"\"\n",
    "    Perform feature trimming, re-encoding, and engineering for demographics\n",
    "    data\n",
    "    \n",
    "    INPUT: Demographics DataFrame\n",
    "    OUTPUT: Trimmed and cleaned demographics DataFrame\n",
    "    \"\"\"\n",
    "    #Convert these strings to list of int & string \n",
    "    #feat_info.missing_or_unknown = feat_info.missing_or_unknown.apply(create_list)\n",
    "    missing_data_dict = dict(zip(feat_info.attribute, feat_info.missing_or_unknown))\n",
    "    # Identify missing or unknown data values and convert them to NaNs.\n",
    "    for col in missing_data_dict.keys(): \n",
    "        df.loc[df[col].isin(missing_data_dict[col]), col] = np.nan\n",
    "    \n",
    "    #GETTING OUTLIER COLUMNS (COLUMNS WITH MORE THAN 20% MISSING)\n",
    "    nmissing = df.isna().sum()/df.shape[0] \n",
    "    nmissing = nmissing[nmissing > 0]\n",
    "    columns_over = nmissing[nmissing > cthreshold].sort_values(ascending = False)\n",
    "    #Drop outlier columns\n",
    "    df.drop(columns=columns_over.index, inplace=True)\n",
    "    \n",
    "    #Identify rows with lots of missing (11% is the threshold I chose)\n",
    "    #Any row with more got removed\n",
    "    nmissing_rows = df.isnull().mean(axis=1)\n",
    "    threshold = 0.11\n",
    "    df = df.loc[nmissing_rows < threshold, :]\n",
    "    \n",
    "    #Identify categorical variables\n",
    "    categorical = feat_info [ feat_info.type == 'categorical' ]\n",
    "    #some were removed earlier so find the ones that were not\n",
    "    set_of_cols = set(df.columns)\n",
    "    cols = [ c for c in categorical.attribute if c in set_of_cols]\n",
    "    #identify the columns with less number of unique values\n",
    "    col_under_6 = [col for col in cols if len(df[col].value_counts()) < 6]\n",
    "    #convert columns to object type\n",
    "    df_cat_u6 = df[col_under_6]\n",
    "    for col in col_under_6 :\n",
    "        df_cat_u6[col] = df_cat_u6[col].astype(object)\n",
    "    #will make the dummy variables out of the 6 and under columns\n",
    "    categorical_dummy = pd.get_dummies(df_cat_u6, drop_first=True) \n",
    "    #can drop the first to save space\n",
    "    #dropped the 18 categorical variablees\n",
    "    df2 = df.drop(columns=cols)\n",
    "    #add the dummy variables\n",
    "    df = pd.concat([df2, categorical_dummy], axis=1)\n",
    "    \n",
    "    #these are the mixed variables\n",
    "    mixed_columns = ['PRAEGENDE_JUGENDJAHRE', 'CAMEO_INTL_2015', 'LP_LEBENSPHASE_FEIN', 'LP_LEBENSPHASE_GROB', 'WOHNLAGE', 'PLZ8_BAUMAX']\n",
    "    #Extract decade and avangarde columns from PRAEGENDE_JUGENDJAHRE\n",
    "    df['AVANGARDE_MOVEMENT'] = df['PRAEGENDE_JUGENDJAHRE'].apply(in_avangarde)\n",
    "    df['DECADE'] = df['PRAEGENDE_JUGENDJAHRE'].apply(get_decade)\n",
    "    #Extract household poverty and household age from CAMEO_INTL_2015\n",
    "    df['HOUSEHOLD_POVERTY'] = df['CAMEO_INTL_2015'].apply(extract_poor)\n",
    "    df['HOUSEHOLD_AGE'] = df['CAMEO_INTL_2015'].apply(extract_age)\n",
    "    #PLZ8_BAUMAX not too many unique values so I decided to make dummy columns\n",
    "    temp_df = df[['PLZ8_BAUMAX']]\n",
    "    temp_df['PLZ8_BAUMAX'] = temp_df['PLZ8_BAUMAX'].astype('object')\n",
    "    temp_df = pd.get_dummies(temp_df)\n",
    "    temp_df.columns = ['1to2_FAMILY_HOMES', '3to5_FAMILY_HOMES', \n",
    "                       '6to10_FAMILY_HOMES', 'OVER_10_FAMILY_HOMES', 'BUSINESS_BUILDINGS'\n",
    "                      ]\n",
    "    df = pd.concat([df, temp_df], axis=1)\n",
    "    #drop all the mixed columns after adding the engineered ones\n",
    "    df.drop(columns=mixed_columns, inplace=True)\n",
    "    return df"
   ]
  },
  {
   "cell_type": "markdown",
   "metadata": {},
   "source": [
    "\n",
    "## Step 2: Feature Transformation\n",
    "\n",
    "### Step 2.1: Apply Feature Scaling"
   ]
  },
  {
   "cell_type": "code",
   "execution_count": 138,
   "metadata": {},
   "outputs": [
    {
     "data": {
      "text/plain": [
       "572897"
      ]
     },
     "execution_count": 138,
     "metadata": {},
     "output_type": "execute_result"
    }
   ],
   "source": [
    "#there are a lot of missing values\n",
    "#in order to feature scale we need to get rid of the missing value\n",
    "sum(df.isna().sum())"
   ]
  },
  {
   "cell_type": "code",
   "execution_count": 139,
   "metadata": {},
   "outputs": [
    {
     "data": {
      "text/plain": [
       "(771701, 82)"
      ]
     },
     "execution_count": 139,
     "metadata": {},
     "output_type": "execute_result"
    }
   ],
   "source": [
    "#Here I just subsituted the missing values with most frequent\n",
    "from sklearn.impute import SimpleImputer\n",
    "saved_columns = df.columns\n",
    "imp = SimpleImputer(strategy=\"most_frequent\")\n",
    "fitted_imp = imp.fit(df)\n",
    "imputed_values = fitted_imp.transform(df)\n",
    "imputed_df = pd.DataFrame(imputed_values, columns=saved_columns)\n",
    "imputed_df.shape"
   ]
  },
  {
   "cell_type": "code",
   "execution_count": 140,
   "metadata": {},
   "outputs": [
    {
     "data": {
      "text/plain": [
       "0"
      ]
     },
     "execution_count": 140,
     "metadata": {},
     "output_type": "execute_result"
    }
   ],
   "source": [
    "#no more missing values\n",
    "sum(imputed_df.isna().sum())"
   ]
  },
  {
   "cell_type": "code",
   "execution_count": 141,
   "metadata": {},
   "outputs": [
    {
     "data": {
      "text/plain": [
       "(771701, 82)"
      ]
     },
     "execution_count": 141,
     "metadata": {},
     "output_type": "execute_result"
    }
   ],
   "source": [
    "# Before PCA one of the steps is features scaling\n",
    "#modify the values of dataframe so that mean=0 and std=1\n",
    "from sklearn.preprocessing import StandardScaler\n",
    "\n",
    "scaler_fitted = StandardScaler().fit(imputed_df.values)\n",
    "scaled_vals = scaler_fitted.transform(imputed_df.values)\n",
    "scaled_vals.shape"
   ]
  },
  {
   "cell_type": "markdown",
   "metadata": {},
   "source": [
    "### Discussion 2.1: Apply Feature Scaling\n",
    "\n",
    "I used the StandardScaler. This is used to modify the values of the dataframe so that the mean=0 and the standard deviation=1.\n",
    "\n",
    "Luckily all the data types were float making it perfect for StandardScaler.\n",
    "\n",
    "Before performing feature scaling, I imputted the missing values. I did this by subsituting missing values with the most frequent value in the column."
   ]
  },
  {
   "cell_type": "markdown",
   "metadata": {},
   "source": [
    "### Step 2.2: Perform Dimensionality Reduction"
   ]
  },
  {
   "cell_type": "markdown",
   "metadata": {},
   "source": [
    "Doing PCA without specifying the number of components. As a result, it ends up having the same number of components as  the length of the dataframe."
   ]
  },
  {
   "cell_type": "code",
   "execution_count": 142,
   "metadata": {},
   "outputs": [
    {
     "data": {
      "text/plain": [
       "(PCA(),\n",
       " array([[ 3.21719502e+00, -2.98665974e+00, -3.26689975e+00, ...,\n",
       "         -1.57503575e-01, -1.54731265e-01, -2.01609924e-03],\n",
       "        [-9.69527866e-01,  2.70716610e-01, -3.31286166e+00, ...,\n",
       "          1.09563929e-01,  8.95307381e-02, -1.66098925e-03],\n",
       "        [-3.94200538e+00,  1.49027316e+00, -5.42765705e-01, ...,\n",
       "          1.21420106e-01, -6.45381021e-01, -4.11089285e-02],\n",
       "        ...,\n",
       "        [-1.17606707e+00, -3.23121280e+00, -3.12465968e+00, ...,\n",
       "          7.18910987e-02, -1.41387017e-01, -1.66037475e-02],\n",
       "        [ 5.81642261e+00, -3.61292041e+00,  2.47269628e+00, ...,\n",
       "         -9.48539496e-02,  1.68702742e-01, -1.80509883e-01],\n",
       "        [-6.98803885e-01,  1.03235170e+00,  2.68756033e+00, ...,\n",
       "         -6.95759279e-01, -2.77261861e-01, -2.73299917e-02]]))"
      ]
     },
     "execution_count": 142,
     "metadata": {},
     "output_type": "execute_result"
    }
   ],
   "source": [
    "from sklearn.decomposition import PCA\n",
    "def do_pca_default(scaled_vals):\n",
    "    '''\n",
    "    Transforms data using PCA to create n_components, and provides back the results of the\n",
    "    transformation.\n",
    "\n",
    "    INPUT: data - the data you would like to transform\n",
    "\n",
    "    OUTPUT: pca - the pca object created after fitting the data\n",
    "            X_pca - the transformed X matrix with new number of components\n",
    "            -number of components not set so will end up being same length as df\n",
    "    '''\n",
    "    pca = PCA()\n",
    "    X_pca = pca.fit_transform(scaled_vals)\n",
    "    return pca, X_pca\n",
    "\n",
    "pca, X_pca = do_pca_default(scaled_vals)\n",
    "pca, X_pca"
   ]
  },
  {
   "cell_type": "code",
   "execution_count": 143,
   "metadata": {},
   "outputs": [
    {
     "data": {
      "image/png": "[encoded data removed]",
      "text/plain": [
       "<Figure size 864x648 with 1 Axes>"
      ]
     },
     "metadata": {
      "needs_background": "light"
     },
     "output_type": "display_data"
    }
   ],
   "source": [
    "vals = pca.explained_variance_ratio_\n",
    "fig, ax = plt.subplots(figsize=(12,9))\n",
    "plt.bar(np.arange(len(vals)), vals, color='b');"
   ]
  },
  {
   "cell_type": "markdown",
   "metadata": {},
   "source": [
    "The red lines shows the points that in my opinion stood out."
   ]
  },
  {
   "cell_type": "code",
   "execution_count": 144,
   "metadata": {},
   "outputs": [
    {
     "data": {
      "text/plain": [
       "<matplotlib.lines.Line2D at 0x1230270d0>"
      ]
     },
     "execution_count": 144,
     "metadata": {},
     "output_type": "execute_result"
    },
    {
     "data": {
      "image/png": "[encoded data removed]",
      "text/plain": [
       "<Figure size 432x288 with 1 Axes>"
      ]
     },
     "metadata": {
      "needs_background": "light"
     },
     "output_type": "display_data"
    }
   ],
   "source": [
    "#Mapping the components by cumulitive variance ratio\n",
    "vals = np.cumsum(pca.explained_variance_ratio_)\n",
    "plt.plot(vals);\n",
    "plt.axvline(x=5, color='red', linestyle='dashed')\n",
    "plt.axvline(x=15, color='red', linestyle='dashed')\n",
    "plt.axvline(x=32, color='red', linestyle='dashed')"
   ]
  },
  {
   "cell_type": "code",
   "execution_count": 145,
   "metadata": {},
   "outputs": [],
   "source": [
    "def do_pca(n_components, scaled_vals):\n",
    "    '''\n",
    "    Transforms data using PCA to create n_components, and provides back the results of the\n",
    "    transformation.\n",
    "\n",
    "    INPUT: data - the data you would like to transform\n",
    "           n_components - number of components \n",
    "\n",
    "    OUTPUT: pca - the pca object created after fitting the data\n",
    "            X_pca - the transformed X matrix with new number of components\n",
    "    '''\n",
    "    pca = PCA(n_components)\n",
    "    X_pca = pca.fit_transform(scaled_vals)\n",
    "    return pca, X_pca"
   ]
  },
  {
   "cell_type": "code",
   "execution_count": 146,
   "metadata": {},
   "outputs": [],
   "source": [
    "# Re-apply PCA to the data while selecting for number of components to retain.\n",
    "pca_32, X_pca_32 = do_pca(32, scaled_vals)"
   ]
  },
  {
   "cell_type": "code",
   "execution_count": 147,
   "metadata": {},
   "outputs": [
    {
     "data": {
      "image/png": "[encoded data removed]",
      "text/plain": [
       "<Figure size 1440x864 with 1 Axes>"
      ]
     },
     "metadata": {
      "needs_background": "light"
     },
     "output_type": "display_data"
    }
   ],
   "source": [
    "def scree_plot(pca):\n",
    "    '''\n",
    "    Creates a scree plot associated with the principal components \n",
    "    \n",
    "    INPUT: pca - the result of instantian of PCA in scikit learn\n",
    "            \n",
    "    OUTPUT:\n",
    "            None\n",
    "    '''\n",
    "    num_components=len(pca.explained_variance_ratio_)\n",
    "    ind = np.arange(num_components)\n",
    "    vals = pca.explained_variance_ratio_\n",
    " \n",
    "    plt.figure(figsize=(20, 12))\n",
    "    ax = plt.subplot(111)\n",
    "    cumvals = np.cumsum(vals)\n",
    "    ax.bar(ind, vals)\n",
    "    ax.plot(ind, cumvals)\n",
    "    for i in range(num_components):\n",
    "        ax.annotate(((str(vals[i])[:4])), (ind[i]+0.2, vals[i]), va=\"bottom\", ha=\"center\", fontsize=12)\n",
    " \n",
    "    ax.xaxis.set_tick_params(width=0)\n",
    "    ax.yaxis.set_tick_params(width=2, length=12)\n",
    " \n",
    "    ax.set_xlabel(\"Principal Component\")\n",
    "    ax.set_ylabel(\"Variance Explained (%)\")\n",
    "    plt.title('Explained Variance Per Principal Component')\n",
    "    \n",
    "scree_plot(pca_32)"
   ]
  },
  {
   "cell_type": "markdown",
   "metadata": {},
   "source": [
    "### Discussion 2.2: Perform Dimensionality Reduction\n",
    "\n",
    "Thre seems to be a stabilization around component 15 as far as the decrease in cumulitive variance and cumulitive variance explained so far."
   ]
  },
  {
   "cell_type": "code",
   "execution_count": 148,
   "metadata": {},
   "outputs": [
    {
     "data": {
      "text/plain": [
       "0.6111824905123175"
      ]
     },
     "execution_count": 148,
     "metadata": {},
     "output_type": "execute_result"
    }
   ],
   "source": [
    "np.cumsum(pca.explained_variance_ratio_[:15])[-1]"
   ]
  },
  {
   "cell_type": "markdown",
   "metadata": {},
   "source": [
    "### Fit a Final Dimensional Reduction"
   ]
  },
  {
   "cell_type": "code",
   "execution_count": 149,
   "metadata": {},
   "outputs": [
    {
     "data": {
      "text/plain": [
       "(771701, 15)"
      ]
     },
     "execution_count": 149,
     "metadata": {},
     "output_type": "execute_result"
    }
   ],
   "source": [
    "#finalized at 15 so performed PCA on the scaled values \n",
    "#reduces data from 82 columns to 15\n",
    "from sklearn.decomposition import PCA\n",
    "n_components = 15 \n",
    "pca_final = PCA(n_components)\n",
    "fitted_pca = pca_final.fit(scaled_vals)\n",
    "pca_15 = fitted_pca.transform(scaled_vals)\n",
    "pca_15.shape"
   ]
  },
  {
   "cell_type": "markdown",
   "metadata": {},
   "source": [
    "### Step 2.3: Interpret Principal Components"
   ]
  },
  {
   "cell_type": "code",
   "execution_count": 150,
   "metadata": {},
   "outputs": [],
   "source": [
    "def map_component_weights(component_num, pca, df=df) :\n",
    "    \"\"\"\n",
    "    INPUT: component_num: which component in the pca\n",
    "           pca: pca array (reduced version of dataframe)\n",
    "    OUTPUT: prints the 5 highest positive and 5 most negatively correlated features to that component\n",
    "            also prints a bar graph with those 10 features and their correlation\n",
    "    \"\"\"\n",
    "    component_map = pd.DataFrame(np.round(pca.components_, 4), columns=df.columns)\n",
    "    component_1 = component_map.iloc[component_num-1].sort_values(ascending=False).iloc[np.r_[0:5, -5:0]]\n",
    "    print(component_1)\n",
    "    df_temp = pd.DataFrame({'features': component_1.index, 'feature_weight': component_1.values})\n",
    "    df_temp.plot.barh(x='features', y='feature_weight', rot=0);"
   ]
  },
  {
   "cell_type": "code",
   "execution_count": 151,
   "metadata": {},
   "outputs": [
    {
     "name": "stdout",
     "output_type": "stream",
     "text": [
      "PLZ8_ANTG3            0.2222\n",
      "PLZ8_ANTG4            0.2142\n",
      "HOUSEHOLD_POVERTY     0.1976\n",
      "HH_EINKOMMEN_SCORE    0.1933\n",
      "ORTSGR_KLS9           0.1908\n",
      "KBA05_GBZ            -0.2070\n",
      "KBA05_ANTG1          -0.2082\n",
      "1to2_FAMILY_HOMES    -0.2161\n",
      "MOBI_REGIO           -0.2198\n",
      "PLZ8_ANTG1           -0.2228\n",
      "Name: 0, dtype: float64\n"
     ]
    },
    {
     "data": {
      "image/png": "[encoded data removed]",
      "text/plain": [
       "<Figure size 432x288 with 1 Axes>"
      ]
     },
     "metadata": {
      "needs_background": "light"
     },
     "output_type": "display_data"
    }
   ],
   "source": [
    "map_component_weights(1, pca_final)"
   ]
  },
  {
   "cell_type": "code",
   "execution_count": 152,
   "metadata": {},
   "outputs": [
    {
     "name": "stdout",
     "output_type": "stream",
     "text": [
      "ALTERSKATEGORIE_GROB    0.2653\n",
      "FINANZ_VORSORGER        0.2373\n",
      "SEMIO_ERL               0.2297\n",
      "SEMIO_LUST              0.1853\n",
      "RETOURTYP_BK_S          0.1622\n",
      "SEMIO_TRADV            -0.2342\n",
      "SEMIO_PFLICHT          -0.2367\n",
      "FINANZ_SPARER          -0.2449\n",
      "DECADE                 -0.2482\n",
      "SEMIO_REL              -0.2616\n",
      "Name: 1, dtype: float64\n"
     ]
    },
    {
     "data": {
      "image/png": "[encoded data removed]",
      "text/plain": [
       "<Figure size 432x288 with 1 Axes>"
      ]
     },
     "metadata": {
      "needs_background": "light"
     },
     "output_type": "display_data"
    }
   ],
   "source": [
    "map_component_weights(2, pca_final)"
   ]
  },
  {
   "cell_type": "code",
   "execution_count": 153,
   "metadata": {
    "scrolled": true
   },
   "outputs": [
    {
     "name": "stdout",
     "output_type": "stream",
     "text": [
      "SEMIO_VERT           0.3422\n",
      "SEMIO_SOZ            0.2623\n",
      "SEMIO_FAM            0.2489\n",
      "SEMIO_KULT           0.2331\n",
      "FINANZ_MINIMALIST    0.1580\n",
      "SEMIO_RAT           -0.2092\n",
      "SEMIO_KRIT          -0.2702\n",
      "SEMIO_DOM           -0.3091\n",
      "SEMIO_KAEM          -0.3337\n",
      "ANREDE_KZ_2.0       -0.3638\n",
      "Name: 2, dtype: float64\n"
     ]
    },
    {
     "data": {
      "image/png": "[encoded data removed]",
      "text/plain": [
       "<Figure size 432x288 with 1 Axes>"
      ]
     },
     "metadata": {
      "needs_background": "light"
     },
     "output_type": "display_data"
    }
   ],
   "source": [
    "map_component_weights(3, pca_final)"
   ]
  },
  {
   "cell_type": "markdown",
   "metadata": {},
   "source": [
    "### Discussion 2.3: Interpret Principal Components\n",
    "\n",
    "\n",
    "#### Component 1\n",
    "Factors with the most positive correlation on component 1 include PLZ8_ANTG3, PLZ8_ANTG4, HOUSEHOLD_POVERTY, HH_EINKOMMEN_SCORE, and ORTSGR_KLS9.\n",
    "\n",
    "Factors with the most negative correlation on component 1 include PLZ8_ANTG1, MOBI_REGIO, 1to2_FAMILY_HOMES, KBA05_ANTG1, KBA05_GBZ.\n",
    "\n",
    "\n",
    "From the factors above, we can infer that component 1 is highly correlated with lower income, high population density, less 1-2 family homes, more 6-10 family homes, less infrastructure. Overall this component seems to correlate with low socioeconomic status.\n",
    "\n",
    "#### Component 2\n",
    "Factors with the most positive correlation on component 2 include ALTERSKATEGORIE_GROB, FINANZ_VORSORGER, SEMIO_ERL, SEMIO_LUST, and RETOURTYP_BK_S.\n",
    "\n",
    "Factors with the most negative correlation on component 2 include SEMIO_REL, DECADE, FINANZ_SPARER, SEMIO_PFLICHT, and SEMIO_TRADV.\n",
    "\n",
    "From the factors above, we can infer that component 2 is highly correlated with older, less modern, more religious, more fiscally conservative and traditional. Less sensual and basically minimalist shoppers. \n",
    "\n",
    "#### Component 3 \n",
    "Factors with the most positive correlation on component 3 include SEMIO_VERT, SEMIO_SOZ, SEMIO_FAM, SEMIO_KULT, and FINANZ_MINIMALIST.\n",
    "\n",
    "Factors with the most negative correlation on component 2 include SEMIO_RAT, SEMIO_KRIT, SEMIO_DOM, SEMIO_KAEM, and ANREDE_KZ_2.0.\n",
    "\n",
    "From the factors above we can infer that component 3 is more correlated with being less dreamful, not as socially or culturally minded, being financially minimalist, having a higher affinity for being rational and critical, being more dominant and combative and being predominantly male over female."
   ]
  },
  {
   "cell_type": "markdown",
   "metadata": {},
   "source": [
    "## Step 3: Clustering\n",
    "\n",
    "### Step 3.1: Apply Clustering to General Population"
   ]
  },
  {
   "cell_type": "code",
   "execution_count": 154,
   "metadata": {},
   "outputs": [],
   "source": [
    "from sklearn.cluster import KMeans"
   ]
  },
  {
   "cell_type": "code",
   "execution_count": 155,
   "metadata": {},
   "outputs": [
    {
     "name": "stdout",
     "output_type": "stream",
     "text": [
      "Calculated:  2\n",
      "Calculated:  3\n",
      "Calculated:  4\n",
      "Calculated:  5\n",
      "Calculated:  6\n",
      "Calculated:  7\n",
      "Calculated:  8\n",
      "Calculated:  9\n",
      "Calculated:  10\n",
      "Calculated:  11\n",
      "Calculated:  12\n",
      "Calculated:  13\n",
      "Calculated:  14\n",
      "Calculated:  15\n",
      "Calculated:  16\n",
      "Calculated:  17\n",
      "Calculated:  18\n",
      "Calculated:  19\n"
     ]
    },
    {
     "data": {
      "image/png": "[encoded data removed]",
      "text/plain": [
       "<Figure size 1152x720 with 1 Axes>"
      ]
     },
     "metadata": {
      "needs_background": "light"
     },
     "output_type": "display_data"
    }
   ],
   "source": [
    "scores = {}\n",
    "for k in range(2, 20):\n",
    "    # run k-means clustering on the data and...\n",
    "    scores[k] = np.abs(KMeans(n_clusters=k).fit(pca_15).score(pca_15))\n",
    "    print('Calculated: ', k)\n",
    "\n",
    "# Plot relationship plot\n",
    "fig, ax = plt.subplots(figsize=(16,10))    \n",
    "ax = pd.Series(scores).plot(marker='o', color='slategray')\n",
    "ax.set_xticks(np.arange(2, 20), minor=False);  \n",
    "ax.set_xlabel(\"# of Clusters\")\n",
    "ax.set_ylabel(\"Total Distance to centroid\");"
   ]
  },
  {
   "cell_type": "markdown",
   "metadata": {},
   "source": [
    "I chose k=10 as the final number of clusters. "
   ]
  },
  {
   "cell_type": "code",
   "execution_count": 156,
   "metadata": {},
   "outputs": [],
   "source": [
    "k=10\n",
    "kmeans = KMeans(n_clusters=k, random_state=1).fit(pca_15)"
   ]
  },
  {
   "cell_type": "code",
   "execution_count": 157,
   "metadata": {},
   "outputs": [
    {
     "data": {
      "text/plain": [
       "(10, 15)"
      ]
     },
     "execution_count": 157,
     "metadata": {},
     "output_type": "execute_result"
    }
   ],
   "source": [
    "kmeans.cluster_centers_.shape"
   ]
  },
  {
   "cell_type": "markdown",
   "metadata": {},
   "source": [
    "### Discussion 3.1: Apply Clustering to General Population\n",
    "\n",
    "I see an elbow around k=10 where the curve definitely become less steap and an elbow around k=13 where the curve completely flattens. \n",
    "\n",
    "I chose k=10."
   ]
  },
  {
   "cell_type": "markdown",
   "metadata": {},
   "source": [
    "### Step 3.2: Apply All Steps to the Customer Data"
   ]
  },
  {
   "cell_type": "code",
   "execution_count": 158,
   "metadata": {},
   "outputs": [
    {
     "data": {
      "text/plain": [
       "(135799, 82)"
      ]
     },
     "execution_count": 158,
     "metadata": {},
     "output_type": "execute_result"
    }
   ],
   "source": [
    "# Load in the customer demographics data.\n",
    "df2 = pd.read_csv('Udacity_CUSTOMERS_Subset.csv', sep=';')\n",
    "#clean customer data\n",
    "df2 = clean_data(df2, cthreshold=0.35)\n",
    "df2.shape"
   ]
  },
  {
   "cell_type": "code",
   "execution_count": 159,
   "metadata": {},
   "outputs": [
    {
     "data": {
      "text/plain": [
       "(135799, 82)"
      ]
     },
     "execution_count": 159,
     "metadata": {},
     "output_type": "execute_result"
    }
   ],
   "source": [
    "#impute customer data\n",
    "saved_columns = df2.columns\n",
    "#re-use the fitted imputation object\n",
    "imputed_values2 = fitted_imp.transform(df2)\n",
    "imputed_df2 = pd.DataFrame(imputed_values2, columns=saved_columns)\n",
    "imputed_df2.shape"
   ]
  },
  {
   "cell_type": "code",
   "execution_count": 160,
   "metadata": {},
   "outputs": [
    {
     "data": {
      "text/plain": [
       "(135799, 82)"
      ]
     },
     "execution_count": 160,
     "metadata": {},
     "output_type": "execute_result"
    }
   ],
   "source": [
    "#Rescale the df2 \n",
    "#re-use the scaler object used for df\n",
    "scaled_vals2 = scaler_fitted.transform(imputed_df2.values)\n",
    "scaled_vals2.shape"
   ]
  },
  {
   "cell_type": "code",
   "execution_count": 161,
   "metadata": {},
   "outputs": [
    {
     "data": {
      "text/plain": [
       "(135799, 15)"
      ]
     },
     "execution_count": 161,
     "metadata": {},
     "output_type": "execute_result"
    }
   ],
   "source": [
    "#run PCA by re-using the pca object for df on df2\n",
    "pca_15_2 = fitted_pca.transform(scaled_vals2)\n",
    "pca_15_2.shape"
   ]
  },
  {
   "cell_type": "markdown",
   "metadata": {},
   "source": [
    "### Step 3.3: Compare Customer Data to Demographics Data"
   ]
  },
  {
   "cell_type": "code",
   "execution_count": 162,
   "metadata": {},
   "outputs": [
    {
     "data": {
      "text/plain": [
       "((771701,), (135799,))"
      ]
     },
     "execution_count": 162,
     "metadata": {},
     "output_type": "execute_result"
    }
   ],
   "source": [
    "#Here we predicted each of the points and put them in a cluster\n",
    "#re-using the fitted kmeans object on df2 \n",
    "company_results = kmeans.predict(pca_15)\n",
    "customer_results = kmeans.predict(pca_15_2)\n",
    "company_results.shape, customer_results.shape"
   ]
  },
  {
   "cell_type": "code",
   "execution_count": 163,
   "metadata": {},
   "outputs": [],
   "source": [
    "length = len(customer_results)\n",
    "customer_distrib = [list(customer_results).count(i) / length for i in set(customer_results)]\n",
    "\n",
    "length = len(company_results)\n",
    "company_distrib = [list(company_results).count(i) / length for i in set(company_results)]"
   ]
  },
  {
   "cell_type": "code",
   "execution_count": 164,
   "metadata": {},
   "outputs": [
    {
     "data": {
      "image/png": "[encoded data removed]",
      "text/plain": [
       "<Figure size 432x288 with 1 Axes>"
      ]
     },
     "metadata": {
      "needs_background": "light"
     },
     "output_type": "display_data"
    }
   ],
   "source": [
    "x = np.arange(k)  # the label locations\n",
    "width = 0.1  # the width of the bars\n",
    "\n",
    "fig, ax = plt.subplots()\n",
    "rects1 = ax.bar(x - width/2, customer_distrib, width, label='Customer Clusters')\n",
    "rects2 = ax.bar(x + width/2, company_distrib, width, label='Company Clusters')\n",
    "\n",
    "# Add some text for labels, title and custom x-axis tick labels, etc.\n",
    "ax.set_ylabel('Number in Cluter')\n",
    "ax.set_title('Cluster Distribution for Customers & Company Demographics')\n",
    "ax.set_xticks(x)\n",
    "labels = [1, 2, 3, 4, 5, 6, 7, 8, 9, 10]\n",
    "ax.set_xticklabels(labels)\n",
    "ax.legend()\n",
    "\n",
    "fig.tight_layout()\n",
    "\n",
    "plt.show()"
   ]
  },
  {
   "cell_type": "code",
   "execution_count": 165,
   "metadata": {},
   "outputs": [
    {
     "data": {
      "text/html": [
       "<div>\n",
       "<style scoped>\n",
       "    .dataframe tbody tr th:only-of-type {\n",
       "        vertical-align: middle;\n",
       "    }\n",
       "\n",
       "    .dataframe tbody tr th {\n",
       "        vertical-align: top;\n",
       "    }\n",
       "\n",
       "    .dataframe thead th {\n",
       "        text-align: right;\n",
       "    }\n",
       "</style>\n",
       "<table border=\"1\" class=\"dataframe\">\n",
       "  <thead>\n",
       "    <tr style=\"text-align: right;\">\n",
       "      <th></th>\n",
       "      <th>1</th>\n",
       "      <th>2</th>\n",
       "      <th>3</th>\n",
       "      <th>4</th>\n",
       "      <th>5</th>\n",
       "      <th>6</th>\n",
       "      <th>7</th>\n",
       "      <th>8</th>\n",
       "      <th>9</th>\n",
       "      <th>10</th>\n",
       "    </tr>\n",
       "  </thead>\n",
       "  <tbody>\n",
       "    <tr>\n",
       "      <th>Customer Cluster Proportions</th>\n",
       "      <td>0.044286</td>\n",
       "      <td>0.000920</td>\n",
       "      <td>0.637685</td>\n",
       "      <td>0.000729</td>\n",
       "      <td>0.032806</td>\n",
       "      <td>0.001620</td>\n",
       "      <td>0.002820</td>\n",
       "      <td>0.000353</td>\n",
       "      <td>0.001009</td>\n",
       "      <td>0.277771</td>\n",
       "    </tr>\n",
       "    <tr>\n",
       "      <th>Company Cluster Proportions</th>\n",
       "      <td>0.124997</td>\n",
       "      <td>0.113405</td>\n",
       "      <td>0.073280</td>\n",
       "      <td>0.111057</td>\n",
       "      <td>0.122778</td>\n",
       "      <td>0.081519</td>\n",
       "      <td>0.100684</td>\n",
       "      <td>0.084841</td>\n",
       "      <td>0.115865</td>\n",
       "      <td>0.071574</td>\n",
       "    </tr>\n",
       "  </tbody>\n",
       "</table>\n",
       "</div>"
      ],
      "text/plain": [
       "                                    1         2         3         4   \\\n",
       "Customer Cluster Proportions  0.044286  0.000920  0.637685  0.000729   \n",
       "Company Cluster Proportions   0.124997  0.113405  0.073280  0.111057   \n",
       "\n",
       "                                    5         6         7         8   \\\n",
       "Customer Cluster Proportions  0.032806  0.001620  0.002820  0.000353   \n",
       "Company Cluster Proportions   0.122778  0.081519  0.100684  0.084841   \n",
       "\n",
       "                                    9         10  \n",
       "Customer Cluster Proportions  0.001009  0.277771  \n",
       "Company Cluster Proportions   0.115865  0.071574  "
      ]
     },
     "execution_count": 165,
     "metadata": {},
     "output_type": "execute_result"
    }
   ],
   "source": [
    "#here we see cluster proportions of the company and company data\n",
    "customer_values = np.unique(customer_results, return_counts=True)[1]\n",
    "company_values = np.unique(company_results, return_counts=True)[1]\n",
    "\n",
    "customer_proportions = customer_values/sum(customer_values)\n",
    "company_proportions = company_values/sum(company_values)\n",
    "df_cluster = pd.DataFrame([list(customer_proportions), list(company_proportions)], index=['Customer Cluster Proportions', 'Company Cluster Proportions'])\n",
    "df_cluster.columns = [1, 2, 3, 4, 5 ,6, 7, 8, 9, 10]\n",
    "df_cluster"
   ]
  },
  {
   "cell_type": "markdown",
   "metadata": {},
   "source": [
    "Clusters shown more in the customer data were 3 and 10.\n",
    "\n",
    "Some clusters shown more in the company were 2 and 9."
   ]
  },
  {
   "cell_type": "code",
   "execution_count": 173,
   "metadata": {
    "scrolled": true
   },
   "outputs": [
    {
     "name": "stdout",
     "output_type": "stream",
     "text": [
      "SEMIO_VERT           0.3422\n",
      "SEMIO_SOZ            0.2623\n",
      "SEMIO_FAM            0.2489\n",
      "SEMIO_KULT           0.2331\n",
      "FINANZ_MINIMALIST    0.1580\n",
      "SEMIO_RAT           -0.2092\n",
      "SEMIO_KRIT          -0.2702\n",
      "SEMIO_DOM           -0.3091\n",
      "SEMIO_KAEM          -0.3337\n",
      "ANREDE_KZ_2.0       -0.3638\n",
      "Name: 2, dtype: float64\n"
     ]
    },
    {
     "data": {
      "image/png": "[encoded data removed]",
      "text/plain": [
       "<Figure size 432x288 with 1 Axes>"
      ]
     },
     "metadata": {
      "needs_background": "light"
     },
     "output_type": "display_data"
    }
   ],
   "source": [
    "# Which clusters have high customer data?\n",
    "map_component_weights(3, pca_final)"
   ]
  },
  {
   "cell_type": "code",
   "execution_count": 174,
   "metadata": {},
   "outputs": [
    {
     "name": "stdout",
     "output_type": "stream",
     "text": [
      "VERS_TYP_2.0           0.2449\n",
      "LP_FAMILIE_GROB_5.0    0.2344\n",
      "SHOPPER_TYP_2.0        0.2162\n",
      "OST_WEST_KZ_W          0.2050\n",
      "HEALTH_TYP             0.1764\n",
      "SEMIO_MAT             -0.1839\n",
      "LP_FAMILIE_GROB_4.0   -0.1858\n",
      "SHOPPER_TYP_1.0       -0.2178\n",
      "LP_STATUS_GROB_4.0    -0.2201\n",
      "MIN_GEBAEUDEJAHR      -0.3761\n",
      "Name: 9, dtype: float64\n"
     ]
    },
    {
     "data": {
      "image/png": "[encoded data removed]",
      "text/plain": [
       "<Figure size 432x288 with 1 Axes>"
      ]
     },
     "metadata": {
      "needs_background": "light"
     },
     "output_type": "display_data"
    }
   ],
   "source": [
    "# What kinds of people are part of a cluster that is overrepresented in the\n",
    "# company data compared to the customer data?\n",
    "map_component_weights(10, pca_final)"
   ]
  },
  {
   "cell_type": "code",
   "execution_count": 175,
   "metadata": {},
   "outputs": [
    {
     "name": "stdout",
     "output_type": "stream",
     "text": [
      "ALTERSKATEGORIE_GROB    0.2653\n",
      "FINANZ_VORSORGER        0.2373\n",
      "SEMIO_ERL               0.2297\n",
      "SEMIO_LUST              0.1853\n",
      "RETOURTYP_BK_S          0.1622\n",
      "SEMIO_TRADV            -0.2342\n",
      "SEMIO_PFLICHT          -0.2367\n",
      "FINANZ_SPARER          -0.2449\n",
      "DECADE                 -0.2482\n",
      "SEMIO_REL              -0.2616\n",
      "Name: 1, dtype: float64\n"
     ]
    },
    {
     "data": {
      "image/png": "[encoded data removed]",
      "text/plain": [
       "<Figure size 432x288 with 1 Axes>"
      ]
     },
     "metadata": {
      "needs_background": "light"
     },
     "output_type": "display_data"
    }
   ],
   "source": [
    "#High company data but low customer data\n",
    "map_component_weights(2, pca_final)"
   ]
  },
  {
   "cell_type": "code",
   "execution_count": 177,
   "metadata": {},
   "outputs": [
    {
     "name": "stdout",
     "output_type": "stream",
     "text": [
      "LP_STATUS_GROB_3.0    0.2554\n",
      "BUSINESS_BUILDINGS    0.2035\n",
      "LP_STATUS_GROB_4.0    0.1936\n",
      "KBA05_ANTG2           0.1771\n",
      "ANZ_TITEL             0.1625\n",
      "ARBEIT               -0.2032\n",
      "REGIOTYP             -0.2087\n",
      "LP_STATUS_GROB_5.0   -0.2126\n",
      "KKK                  -0.2468\n",
      "GEBAEUDETYP_RASTER   -0.2692\n",
      "Name: 8, dtype: float64\n"
     ]
    },
    {
     "data": {
      "image/png": "[encoded data removed]",
      "text/plain": [
       "<Figure size 432x288 with 1 Axes>"
      ]
     },
     "metadata": {
      "needs_background": "light"
     },
     "output_type": "display_data"
    }
   ],
   "source": [
    "map_component_weights(9, pca_final)"
   ]
  },
  {
   "cell_type": "markdown",
   "metadata": {},
   "source": [
    "### Discussion 3.3: Compare Customer Data to Demographics Data\n",
    "\n",
    "***More in company:***\n",
    "\n",
    "**Component 2**\n",
    "Factors with the most positive correlation on component 2 include ALTERSKATEGORIE_GROB, FINANZ_VORSORGER, SEMIO_ERL, SEMIO_LUST, and RETOURTYP_BK_S.\n",
    "\n",
    "Factors with the most negative correlation on component 2 include SEMIO_REL, DECADE, FINANZ_SPARER, SEMIO_PFLICHT, and SEMIO_TRADV.\n",
    "\n",
    "From the factors above, we can infer that component 2 is highly correlated with older, less modern, more religious, more fiscally conservative and traditional. Less sensual and basically minimalist shoppers. \n",
    "\n",
    "**Component 9**\n",
    "Factors with the most positive correlation on component 9 include LP_STATUS_GROB_3.0, BUSINESS_BUILDINGS, LP_STATUS_GROB_4.0, KBA05_ANTG2, and ANZ_TITEL.\n",
    "\n",
    "Factors with the most negative correlation on component 9 nclude ARBEIT, REGIOTYP, LP_STATUS_GROB_5.0, KKK, and GEBAEUDETYP_RASTER\n",
    "\n",
    "This cluster correlated mostly with the middle class and 3-5 family size. It has a negative correlation with top earners and also a negative correlation with low-income such as unemployment, low purchasing power.\n",
    "\n",
    "***More in customer:***\n",
    "\n",
    "**Component 3**\n",
    "Factors with the most positive correlation on component 3 include SEMIO_VERT, SEMIO_SOZ, SEMIO_FAM, SEMIO_KULT, and FINANZ_MINIMALIST.\n",
    "\n",
    "Factors with the most negative correlation on component 3 include SEMIO_RAT, SEMIO_KRIT, SEMIO_DOM, SEMIO_KAEM, and ANREDE_KZ_2.0.\n",
    "\n",
    "From the factors above we can infer that component 3 is more correlated with being less dreamful, not as socially or culturally minded, being financially minimalist, having a higher affinity for being rational and critical, being more dominant and combative and being predominantly male over female.\n",
    "\n",
    "**Component 10**\n",
    "Factors with the most positive correlation on component 10 include VERS_TYP_2.0, LP_FAMILIE_GROB_5.0, SHOPPER_TYP_2.0, OST_WEST_KZ_W, and HEALTH_TYP.\n",
    "\n",
    "Factors with the most negative correlation on component 10 include SEMIO_MAT, LP_FAMILIE_GROB_4.0, SHOPPER_TYP_1.0, LP_STATUS_GROB_4.0, and MIN_GEBAEUDEJAHR.\n",
    "\n",
    "This cluster was all over the place. It had a correlation with multi person household, they are not super healthy. They tend to be family shoppers with family sizes over 8. They tend to be materialistic, from the West and not house owners."
   ]
  },
  {
   "cell_type": "markdown",
   "metadata": {},
   "source": [
    "> Congratulations on making it this far in the project! Before you finish, make sure to check through the entire notebook from top to bottom to make sure that your analysis follows a logical flow and all of your findings are documented in **Discussion** cells. Once you've checked over all of your work, you should export the notebook as an HTML document to submit for evaluation. You can do this from the menu, navigating to **File -> Download as -> HTML (.html)**. You will submit both that document and this notebook for your project submission."
   ]
  },
  {
   "cell_type": "code",
   "execution_count": null,
   "metadata": {},
   "outputs": [],
   "source": []
  }
 ],
 "metadata": {
  "kernelspec": {
   "display_name": "Python 3",
   "language": "python",
   "name": "python3"
  },
  "language_info": {
   "codemirror_mode": {
    "name": "ipython",
    "version": 3
   },
   "file_extension": ".py",
   "mimetype": "text/x-python",
   "name": "python",
   "nbconvert_exporter": "python",
   "pygments_lexer": "ipython3",
   "version": "3.8.5"
  }
 },
 "nbformat": 4,
 "nbformat_minor": 2
}
